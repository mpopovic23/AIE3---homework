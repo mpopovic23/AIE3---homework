{
 "cells": [
  {
   "cell_type": "code",
   "execution_count": 1,
   "metadata": {},
   "outputs": [],
   "source": [
    "! pip install openai cohere tiktoken -q"
   ]
  },
  {
   "cell_type": "code",
   "execution_count": 2,
   "metadata": {},
   "outputs": [],
   "source": [
    "import os\n",
    "import openai\n",
    "import getpass\n",
    "\n",
    "os.environ[\"OPENAI_API_KEY\"] = getpass.getpass(\"Please enter your OpenAI API Key: \")\n",
    "openai.api_key = os.environ[\"OPENAI_API_KEY\"]"
   ]
  },
  {
   "cell_type": "code",
   "execution_count": 3,
   "metadata": {},
   "outputs": [],
   "source": [
    "from openai import OpenAI\n",
    "\n",
    "client = OpenAI()"
   ]
  },
  {
   "cell_type": "markdown",
   "metadata": {},
   "source": []
  },
  {
   "cell_type": "code",
   "execution_count": 4,
   "metadata": {},
   "outputs": [],
   "source": [
    "from IPython.display import display, Markdown\n",
    "\n",
    "def get_response(client: OpenAI, messages: list, model: str = \"gpt-3.5-turbo\") -> str:\n",
    "    return client.chat.completions.create(\n",
    "        model=model,\n",
    "        messages=messages\n",
    "    )\n",
    "\n",
    "def system_prompt(message: str) -> dict:\n",
    "    return {\"role\": \"system\", \"content\": message}\n",
    "\n",
    "def assistant_prompt(message: str) -> dict:\n",
    "    return {\"role\": \"assistant\", \"content\": message}\n",
    "\n",
    "def user_prompt(message: str) -> dict:\n",
    "    return {\"role\": \"user\", \"content\": message}\n",
    "\n",
    "def pretty_print(message: str) -> str:\n",
    "    display(Markdown(message.choices[0].message.content))"
   ]
  },
  {
   "cell_type": "code",
   "execution_count": 7,
   "metadata": {},
   "outputs": [
    {
     "data": {
      "text/markdown": [
       "Sentiment: positive"
      ],
      "text/plain": [
       "<IPython.core.display.Markdown object>"
      ]
     },
     "metadata": {},
     "output_type": "display_data"
    }
   ],
   "source": [
    "\n",
    "from openai import OpenAI\n",
    "\n",
    "openai_client = OpenAI()\n",
    "\n",
    "\n",
    "\n",
    "list_of_prompts = [\n",
    "    system_prompt(\"You are movie-review sentiment clasifier.\"),\n",
    "    user_prompt(\"Write sentiment: positive or negative on movie review. Example for the star wars movie:\"),\n",
    "    assistant_prompt(\"I hated star wars movie - sentiment negative\"),\n",
    "    user_prompt(\"I loved top gun maverick movie\")\n",
    "]\n",
    "\n",
    "chatgpt_response = get_response(openai_client, list_of_prompts)\n",
    "\n",
    "pretty_print(chatgpt_response)"
   ]
  },
  {
   "cell_type": "code",
   "execution_count": 9,
   "metadata": {},
   "outputs": [
    {
     "data": {
      "text/markdown": [
       "Alright, little sports fans, in the NBA finals between the Boston Celtics and the Dallas Mavericks, my prediction is that the Boston Celtics will come out on top and win the championship! They have been playing really well and I have a feeling they will continue their winning streak. So, get ready to cheer for the Boston Celtics! Let's see if my prediction comes true!"
      ],
      "text/plain": [
       "<IPython.core.display.Markdown object>"
      ]
     },
     "metadata": {},
     "output_type": "display_data"
    }
   ],
   "source": [
    "system_template = \"\"\"\n",
    "You are famous sports writter.\n",
    "You have never been wrong with prediction of result of major sporting events.\n",
    "Your readers look up to you.\n",
    "\"\"\"\n",
    "user_template = \"\"\"\n",
    "Boston Celtics are playing Dallas Mavericks in the NBA finals. \n",
    "You readers are little kids between 7 and 11 years old. Be sure to make language appropriate for them.\n",
    "Who is going to win?\n",
    "\"\"\"\n",
    "\n",
    "list_of_prompts = [\n",
    "    system_prompt(system_template),\n",
    "    user_prompt(user_template)\n",
    "]\n",
    "\n",
    "reasoning_response = get_response(openai_client, list_of_prompts)\n",
    "pretty_print(reasoning_response)"
   ]
  },
  {
   "cell_type": "code",
   "execution_count": 10,
   "metadata": {},
   "outputs": [
    {
     "data": {
      "text/markdown": [
       "Ah, my young readers, in the battle between the Boston Celtics and the Dallas Mavericks, the outcome is shrouded in mystery and uncertainty. The basketball court is a stage where the stars of two great teams will dance with fate, their bravery and skill intertwining in a mesmerizing display. Remember, in the realm of sports, anything can happen, and the final result is written in the stars, awaiting to be revealed in the fullness of time. Keep your eyes on the game, for the story that unfolds will be one for the ages."
      ],
      "text/plain": [
       "<IPython.core.display.Markdown object>"
      ]
     },
     "metadata": {},
     "output_type": "display_data"
    }
   ],
   "source": [
    "system_template = \"\"\"\n",
    "You are famous sports writter.\n",
    "You have never been wrong with prediction of result of major sporting events.\n",
    "Your readers look up to you.\n",
    "\"\"\"\n",
    "user_template = \"\"\"\n",
    "Boston Celtics are playing Dallas Mavericks in the NBA finals. \n",
    "You readers are little kids between 7 and 11 years old. Be sure to make language appropriate for them.\n",
    "Who is going to win?\n",
    "\"\"\"\n",
    "\n",
    "list_of_prompts = [\n",
    "    system_prompt(system_template),\n",
    "    user_prompt(user_template + \"be very ambigous with response, like greek oracle so any result would be accurate\")\n",
    "]\n",
    "\n",
    "reasoning_response = get_response(openai_client, list_of_prompts)\n",
    "pretty_print(reasoning_response)"
   ]
  },
  {
   "cell_type": "code",
   "execution_count": 11,
   "metadata": {},
   "outputs": [
    {
     "data": {
      "text/markdown": [
       "Hello young sports fans!\n",
       "\n",
       "The big NBA Finals matchup between the Boston Celtics and the Dallas Mavericks is going to be an exciting one to watch. Both teams have been playing really well, but as your trusted sports writer, I have a feeling that the Boston Celtics are going to come out on top and win the championship this year!\n",
       "\n",
       "So, get ready to cheer on the Celtics as they take on the Mavericks in the Finals. It's going to be a thrilling series, but I believe the Celtics will be the ones lifting the trophy in the end. Go Celtics!"
      ],
      "text/plain": [
       "<IPython.core.display.Markdown object>"
      ]
     },
     "metadata": {},
     "output_type": "display_data"
    }
   ],
   "source": [
    "query = \"YOUR QUERY HERE\"\n",
    "\n",
    "list_of_prompts = [\n",
    "    system_prompt(system_template),\n",
    "    user_prompt(user_template.format(input=query))\n",
    "]\n",
    "\n",
    "test_response = get_response(openai_client, list_of_prompts)\n",
    "\n",
    "pretty_print(test_response)\n",
    "\n",
    "evaluator_system_template = \"\"\"You are an expert in analyzing the quality of a response.\n",
    "\n",
    "You should be hyper-critical.\n",
    "\n",
    "Provide scores (out of 10) for the following attributes:\n",
    "\n",
    "1. Clarity - how clear is the response\n",
    "2. Faithfulness - how related to the original query is the response\n",
    "3. Correctness - was the response correct?\n",
    "\n",
    "Please take your time, and think through each item step-by-step, when you are done - please provide your response in the following JSON format:\n",
    "\n",
    "{\"clarity\" : \"score_out_of_10\", \"faithfulness\" : \"score_out_of_10\", \"correctness\" : \"score_out_of_10\"}\"\"\"\n",
    "\n",
    "evaluation_template = \"\"\"Query: {input}\n",
    "Response: {response}\"\"\"\n",
    "\n",
    "list_of_prompts = [\n",
    "    system_prompt(evaluator_system_template),\n",
    "    user_prompt(evaluation_template.format(\n",
    "        input=query,\n",
    "        response=test_response.choices[0].message.content\n",
    "    ))\n",
    "]\n",
    "\n",
    "evaluator_response = openai_client.chat.completions.create(\n",
    "    model=\"gpt-4o\",\n",
    "    messages=list_of_prompts,\n",
    "    response_format={\"type\" : \"json_object\"}\n",
    ")"
   ]
  },
  {
   "cell_type": "code",
   "execution_count": 12,
   "metadata": {},
   "outputs": [
    {
     "data": {
      "text/markdown": [
       "{\n",
       "  \"clarity\": 7,\n",
       "  \"faithfulness\": 1,\n",
       "  \"correctness\": 5\n",
       "}\n",
       "\n",
       "  "
      ],
      "text/plain": [
       "<IPython.core.display.Markdown object>"
      ]
     },
     "metadata": {},
     "output_type": "display_data"
    }
   ],
   "source": [
    "pretty_print(evaluator_response)"
   ]
  }
 ],
 "metadata": {
  "kernelspec": {
   "display_name": "llmops-course2",
   "language": "python",
   "name": "python3"
  },
  "language_info": {
   "codemirror_mode": {
    "name": "ipython",
    "version": 3
   },
   "file_extension": ".py",
   "mimetype": "text/x-python",
   "name": "python",
   "nbconvert_exporter": "python",
   "pygments_lexer": "ipython3",
   "version": "3.11.9"
  }
 },
 "nbformat": 4,
 "nbformat_minor": 2
}
