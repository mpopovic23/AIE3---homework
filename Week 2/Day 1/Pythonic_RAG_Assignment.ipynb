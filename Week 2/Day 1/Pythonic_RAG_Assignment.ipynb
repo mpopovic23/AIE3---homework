{
  "cells": [
    {
      "cell_type": "markdown",
      "metadata": {
        "id": "lElF3o5PR6ys"
      },
      "source": [
        "# Your First RAG Application\n",
        "\n",
        "In this notebook, we'll walk you through each of the components that are involved in a simple RAG application.\n",
        "\n",
        "We won't be leveraging any fancy tools, just the OpenAI Python SDK, Numpy, and some classic Python.\n",
        "\n",
        "> NOTE: This was done with Python 3.11.4.\n",
        "\n",
        "> NOTE: There might be [compatibility issues](https://github.com/wandb/wandb/issues/7683) if you're on NVIDIA driver >552.44 As an interim solution - you can rollback your drivers to the 552.44."
      ]
    },
    {
      "cell_type": "markdown",
      "metadata": {
        "id": "5CtcL8P8R6yt"
      },
      "source": [
        "## Table of Contents:\n",
        "\n",
        "- Task 1: Imports and Utilities\n",
        "- Task 2: Documents\n",
        "- Task 3: Embeddings and Vectors\n",
        "- Task 4: Prompts\n",
        "- Task 5: Retrieval Augmented Generation\n",
        "  - 🚧 Activity #1: Augment RAG\n",
        "- Task 6: Visibility Tooling\n",
        "- Task 7: RAG Evaluation Using GPT-4"
      ]
    },
    {
      "cell_type": "markdown",
      "metadata": {
        "id": "1Dz6GYilR6yt"
      },
      "source": [
        "Let's look at a rather complicated looking visual representation of a basic RAG application.\n",
        "\n",
        "<img src=\"https://i.imgur.com/PvlaIUO.png\" />"
      ]
    },
    {
      "cell_type": "markdown",
      "metadata": {
        "id": "PjmC0KFtR6yt"
      },
      "source": [
        "## Task 1: Imports and Utility\n",
        "\n",
        "We're just doing some imports and enabling `async` to work within the Jupyter environment here, nothing too crazy!"
      ]
    },
    {
      "cell_type": "code",
      "execution_count": 35,
      "metadata": {
        "colab": {
          "base_uri": "https://localhost:8080/"
        },
        "id": "H7VEzqziR6yt",
        "outputId": "f873dd3b-55a0-4e00-ecf4-e2a0fe3af327"
      },
      "outputs": [],
      "source": [
        "! pip install -qU numpy matplotlib plotly pandas scipy scikit-learn openai python-dotenv"
      ]
    },
    {
      "cell_type": "code",
      "execution_count": 36,
      "metadata": {
        "id": "Z1dyrG4hR6yt"
      },
      "outputs": [],
      "source": [
        "from aimakerspace.text_utils import TextFileLoader, CharacterTextSplitter\n",
        "from aimakerspace.vectordatabase import VectorDatabase\n",
        "import asyncio"
      ]
    },
    {
      "cell_type": "code",
      "execution_count": 37,
      "metadata": {
        "id": "9OrFZRnER6yt"
      },
      "outputs": [],
      "source": [
        "import nest_asyncio\n",
        "nest_asyncio.apply()"
      ]
    },
    {
      "cell_type": "markdown",
      "metadata": {
        "id": "M0jGnpQsR6yu"
      },
      "source": [
        "## Task 2: Documents\n",
        "\n",
        "We'll be concerning ourselves with this part of the flow in the following section:\n",
        "\n",
        "<img src=\"https://i.imgur.com/jTm9gjk.png\" />"
      ]
    },
    {
      "cell_type": "markdown",
      "metadata": {
        "id": "-SFPWvRUR6yu"
      },
      "source": [
        "### Loading Source Documents\n",
        "\n",
        "So, first things first, we need some documents to work with.\n",
        "\n",
        "While we could work directly with the `.txt` files (or whatever file-types you wanted to extend this to) we can instead do some batch processing of those documents at the beginning in order to store them in a more machine compatible format.\n",
        "\n",
        "In this case, we're going to parse our text file into a single document in memory.\n",
        "\n",
        "Let's look at the relevant bits of the `TextFileLoader` class:\n",
        "\n",
        "```python\n",
        "def load_file(self):\n",
        "        with open(self.path, \"r\", encoding=self.encoding) as f:\n",
        "            self.documents.append(f.read())\n",
        "```\n",
        "\n",
        "We're simply loading the document using the built in `open` method, and storing that output in our `self.documents` list.\n"
      ]
    },
    {
      "cell_type": "code",
      "execution_count": 4,
      "metadata": {
        "colab": {
          "base_uri": "https://localhost:8080/"
        },
        "id": "Ia2sUEuGR6yu",
        "outputId": "84937ecc-c35f-4c4a-a4ab-9da72625954c"
      },
      "outputs": [
        {
          "data": {
            "text/plain": [
              "1"
            ]
          },
          "execution_count": 4,
          "metadata": {},
          "output_type": "execute_result"
        }
      ],
      "source": [
        "text_loader = TextFileLoader(\"data/PMarcaBlogs.txt\")\n",
        "documents = text_loader.load_documents()\n",
        "len(documents)"
      ]
    },
    {
      "cell_type": "code",
      "execution_count": 4,
      "metadata": {
        "colab": {
          "base_uri": "https://localhost:8080/"
        },
        "id": "bV-tj5WFR6yu",
        "outputId": "674eb315-1ff3-4597-bcf5-38ece0a812ac"
      },
      "outputs": [
        {
          "name": "stdout",
          "output_type": "stream",
          "text": [
            "\n",
            "The Pmarca Blog Archives\n",
            "(select posts from 2007-2009)\n",
            "Marc Andreessen\n",
            "copyright: Andreessen Horow\n"
          ]
        }
      ],
      "source": [
        "print(documents[0][:100])"
      ]
    },
    {
      "cell_type": "markdown",
      "metadata": {
        "id": "nHlTvCzYR6yu"
      },
      "source": [
        "### Splitting Text Into Chunks\n",
        "\n",
        "As we can see, there is one document - and it's the entire text of Frakenstein\n",
        "\n",
        "We'll want to chunk the document into smaller parts so it's easier to pass the most relevant snippets to the LLM.\n",
        "\n",
        "There is no fixed way to split/chunk documents - and you'll need to rely on some intuition as well as knowing your data *very* well in order to build the most robust system.\n",
        "\n",
        "For this toy example, we'll just split blindly on length.\n",
        "\n",
        ">There's an opportunity to clear up some terminology here, for this course we will be stick to the following:\n",
        ">\n",
        ">- \"source documents\" : The `.txt`, `.pdf`, `.html`, ..., files that make up the files and information we start with in its raw format\n",
        ">- \"document(s)\" : single (or more) text object(s)\n",
        ">- \"corpus\" : the combination of all of our documents"
      ]
    },
    {
      "cell_type": "markdown",
      "metadata": {
        "id": "M0DV5Yx5R6yu"
      },
      "source": [
        "Let's take a peek visually at what we're doing here - and why it might be useful:\n",
        "\n",
        "<img src=\"https://i.imgur.com/rtM6Ci6.png\" />"
      ]
    },
    {
      "cell_type": "markdown",
      "metadata": {
        "id": "2G6Voc0jR6yv"
      },
      "source": [
        "As you can see (though it's not specifically true in this toy example) the idea of splitting documents is to break them into managable sized chunks that retain the most relevant local context."
      ]
    },
    {
      "cell_type": "code",
      "execution_count": 5,
      "metadata": {
        "colab": {
          "base_uri": "https://localhost:8080/"
        },
        "id": "UMC4tsEmR6yv",
        "outputId": "08689c0b-57cd-4040-942a-8193e997f5cb"
      },
      "outputs": [
        {
          "data": {
            "text/plain": [
              "373"
            ]
          },
          "execution_count": 5,
          "metadata": {},
          "output_type": "execute_result"
        }
      ],
      "source": [
        "text_splitter = CharacterTextSplitter()\n",
        "split_documents = text_splitter.split_texts(documents)\n",
        "len(split_documents)"
      ]
    },
    {
      "cell_type": "markdown",
      "metadata": {
        "id": "W2wKT0WLR6yv"
      },
      "source": [
        "Let's take a look at some of the documents we've managed to split."
      ]
    },
    {
      "cell_type": "code",
      "execution_count": 6,
      "metadata": {
        "colab": {
          "base_uri": "https://localhost:8080/"
        },
        "id": "vcYMwWJoR6yv",
        "outputId": "20d69876-feca-4826-b4be-32915276987a"
      },
      "outputs": [
        {
          "data": {
            "text/plain": [
              "['\\ufeff\\nThe Pmarca Blog Archives\\n(select posts from 2007-2009)\\nMarc Andreessen\\ncopyright: Andreessen Horowitz\\ncover design: Jessica Hagy\\nproduced using: Pressbooks\\nContents\\nTHE PMARCA GUIDE TO STARTUPS\\nPart 1: Why not to do a startup 2\\nPart 2: When the VCs say \"no\" 10\\nPart 3: \"But I don\\'t know any VCs!\" 18\\nPart 4: The only thing that matters 25\\nPart 5: The Moby Dick theory of big companies 33\\nPart 6: How much funding is too little? Too much? 41\\nPart 7: Why a startup\\'s initial business plan doesn\\'t\\nmatter that much\\n49\\nTHE PMARCA GUIDE TO HIRING\\nPart 8: Hiring, managing, promoting, and Dring\\nexecutives\\n54\\nPart 9: How to hire a professional CEO 68\\nHow to hire the best people you\\'ve ever worked\\nwith\\n69\\nTHE PMARCA GUIDE TO BIG COMPANIES\\nPart 1: Turnaround! 82\\nPart 2: Retaining great people 86\\nTHE PMARCA GUIDE TO CAREER, PRODUCTIVITY,\\nAND SOME OTHER THINGS\\nIntroduction 97\\nPart 1: Opportunity 99\\nPart 2: Skills and education 107\\nPart 3: Where to go and why 120\\nThe Pmarca Guide to Personal Productivi']"
            ]
          },
          "execution_count": 6,
          "metadata": {},
          "output_type": "execute_result"
        }
      ],
      "source": [
        "split_documents[0:1]"
      ]
    },
    {
      "cell_type": "code",
      "execution_count": 4,
      "metadata": {},
      "outputs": [
        {
          "name": "stdout",
          "output_type": "stream",
          "text": [
            "Requirement already satisfied: pymupdf in /home/mpopovic1/anaconda3/envs/llmops-course2/lib/python3.11/site-packages (1.24.5)\n",
            "Requirement already satisfied: PyMuPDFb==1.24.3 in /home/mpopovic1/anaconda3/envs/llmops-course2/lib/python3.11/site-packages (from pymupdf) (1.24.3)\n"
          ]
        }
      ],
      "source": [
        "! pip install pymupdf"
      ]
    },
    {
      "cell_type": "code",
      "execution_count": 6,
      "metadata": {},
      "outputs": [
        {
          "name": "stdout",
          "output_type": "stream",
          "text": [
            "GODIŠNJE IZVJEŠĆE\n",
            "\n"
          ]
        }
      ],
      "source": [
        "import fitz  # PyMuPDF\n",
        "\n",
        "class PDFFileLoader:\n",
        "    def __init__(self, file_path):\n",
        "        self.file_path = file_path\n",
        "    \n",
        "    def load_documents(self):\n",
        "        documents = []\n",
        "        # Open the PDF file\n",
        "        with fitz.open(self.file_path) as pdf:\n",
        "            # Iterate through each page\n",
        "            for page_num in range(len(pdf)):\n",
        "                page = pdf[page_num]\n",
        "                text = page.get_text()\n",
        "                documents.append(text)\n",
        "        return documents\n",
        "\n",
        "# Initialize PDF loader\n",
        "pdf_loader = PDFFileLoader(\"data/godisnje-izvjesce-2023.pdf\")\n",
        "documents = pdf_loader.load_documents()\n",
        "\n",
        "# Print the first 100 characters of the first page\n",
        "print(documents[0][:100])"
      ]
    },
    {
      "cell_type": "code",
      "execution_count": 5,
      "metadata": {},
      "outputs": [
        {
          "name": "stdout",
          "output_type": "stream",
          "text": [
            "Page 15:\n",
            "uključuju, primjerice, kvartalne rezultate, politike koje usva-\n",
            "ja Uprava Društva a odnose se na pod\n"
          ]
        }
      ],
      "source": [
        "import fitz  # PyMuPDF\n",
        "\n",
        "class PDFFileLoader:\n",
        "    def __init__(self, file_path):\n",
        "        self.file_path = file_path\n",
        "    \n",
        "    def load_documents(self):\n",
        "        documents = []\n",
        "        # Open the PDF file\n",
        "        with fitz.open(self.file_path) as pdf:\n",
        "            # Iterate through each page\n",
        "            for page_num in range(len(pdf)):\n",
        "                page = pdf[page_num]\n",
        "                text = page.get_text()\n",
        "                documents.append(text)\n",
        "        return documents\n",
        "\n",
        "# Initialize PDF loader\n",
        "pdf_loader = PDFFileLoader(\"data/godisnje-izvjesce-2023.pdf\")\n",
        "documents = pdf_loader.load_documents()\n",
        "\n",
        "# Prompt the user to enter the page number\n",
        "page_num = int(input(\"Enter the page number you want to print: \"))\n",
        "\n",
        "# Check if the page number is within the valid range\n",
        "if 1 <= page_num <= len(documents):\n",
        "    # Print the first 100 characters of the chosen page\n",
        "    print(f\"Page {page_num}:\")\n",
        "    print(documents[page_num - 1][:100])\n",
        "else:\n",
        "    print(f\"Invalid page number. Please enter a number between 1 and {len(documents)}.\")"
      ]
    },
    {
      "cell_type": "code",
      "execution_count": 6,
      "metadata": {},
      "outputs": [
        {
          "data": {
            "text/plain": [
              "563"
            ]
          },
          "execution_count": 6,
          "metadata": {},
          "output_type": "execute_result"
        }
      ],
      "source": [
        "text_splitter = CharacterTextSplitter()\n",
        "split_documents = text_splitter.split_texts(documents)\n",
        "len(split_documents)"
      ]
    },
    {
      "cell_type": "code",
      "execution_count": 7,
      "metadata": {},
      "outputs": [
        {
          "data": {
            "text/plain": [
              "['GODIŠNJE IZVJEŠĆE\\n']"
            ]
          },
          "execution_count": 7,
          "metadata": {},
          "output_type": "execute_result"
        }
      ],
      "source": [
        "split_documents[0:1]"
      ]
    },
    {
      "cell_type": "markdown",
      "metadata": {
        "id": "HOU-RFP_R6yv"
      },
      "source": [
        "## Task 3: Embeddings and Vectors\n",
        "\n",
        "Next, we have to convert our corpus into a \"machine readable\" format.\n",
        "\n",
        "Loosely, this means turning the text into numbers.\n",
        "\n",
        "Today, we're going to talk about the actual process of creating, and then storing, these embeddings, and how we can leverage that to intelligently add context to our queries."
      ]
    },
    {
      "cell_type": "markdown",
      "metadata": {},
      "source": [
        "### Embeddings and Dense Vector Search: A Quick Primer\n",
        "\n",
        "If you come from an NLP background, embeddings are something you might be intimately familiar with - otherwise, you might find the topic a bit...dense. (this attempt at a joke will make more sense later)\n",
        "\n",
        "In all seriousness, embeddings are a powerful piece of the NLP puzzle, so let's dive in!\n",
        "\n",
        "> NOTE: While this notebook language/NLP-centric, embeddings have uses beyond just text!"
      ]
    },
    {
      "cell_type": "markdown",
      "metadata": {},
      "source": [
        "#### Why Do We Even Need Embeddings?\n",
        "\n",
        "In order to fully understand what Embeddings are, we first need to understand why we have them!\n",
        "\n",
        "Machine Learning algorithms, ranging from the very big to the very small, all have one thing in common:\n",
        "\n",
        "They need numeric inputs.\n",
        "\n",
        "So we need a process by which to translate the domain we live in, dominated by images, audio, language, and more, into the domain of the machine: Numbers.\n",
        "\n",
        "Another thing we want to be able to do is capture \"semantic information\" about words/phrases so that we can use algorithmic approaches to determine if words are closely related or not!\n",
        "\n",
        "So, we need to come up with a process that does these two things well:\n",
        "\n",
        "- Convert non-numeric data into numeric-data\n",
        "- Capture potential semantic relationships between individual pieces of data"
      ]
    },
    {
      "cell_type": "markdown",
      "metadata": {},
      "source": [
        "#### How Do Embeddings Capture Semantic Relationships?\n",
        "\n",
        "In a simplified sense, embeddings map a word or phrase into n-dimensional space with a dense continuous vector, where each dimension in the vector represents some \"latent feature\" of the data.\n",
        "\n",
        "This is best represented in a classic example:\n",
        "\n",
        "![image](https://i.imgur.com/K5eQtmH.png)\n",
        "\n",
        "As can be seen in the extremely simplified example: The X_1 axis represents age, and the X_2 axis represents hair.\n",
        "\n",
        "The relationship of \"puppy -> dog\" reflects the same relationship as \"baby -> adult\", but dogs are (typically) hairier than humans. However, adults typically have more hair than babies - so they are shifted slightly closer to dogs on the X_2 axis!\n",
        "\n",
        "Now, this is a simplified and contrived example - but it is *essentially* the mechanism by which embeddings capture semantic information.\n",
        "\n",
        "In reality, the dimensions don't sincerely represent hard-concepts like \"age\" or \"hair\", but it's useful as a way to think about how the semantic relationships are captured.\n",
        "\n",
        "Alright, with some history behind us - let's examine how these might help us choose relevant context."
      ]
    },
    {
      "cell_type": "markdown",
      "metadata": {},
      "source": [
        "Let's begin with a simple example - simply looking at how close to embedding vectors are for a given phrase.\n",
        "\n",
        "When we use the term \"close\" in this notebook - we're referring to a distance measure called \"cosine similarity\".\n",
        "\n",
        "We discussed above that if two embeddings are close - they are semantically similar, cosine similarity gives us a quick way to measure how similar two vectors are!\n",
        "\n",
        "Closeness is measured from 1 to -1, with 1 being extremely close and -1 being extremely close to opposite in meaning.\n",
        "\n",
        "Let's implement it with Numpy below."
      ]
    },
    {
      "cell_type": "code",
      "execution_count": 38,
      "metadata": {},
      "outputs": [],
      "source": [
        "import numpy as np\n",
        "from numpy.linalg import norm\n",
        "\n",
        "def cosine_similarity(vec_1, vec_2):\n",
        "  return np.dot(vec_1, vec_2) / (norm(vec_1) * norm(vec_2))"
      ]
    },
    {
      "cell_type": "markdown",
      "metadata": {},
      "source": [
        "Now let's use the `text-embedding-3-small` embedding model (more on that in a second) to embed two sentences. In order to use this embedding model endpoint - we'll need to provide our OpenAI API key!"
      ]
    },
    {
      "cell_type": "code",
      "execution_count": 45,
      "metadata": {
        "colab": {
          "base_uri": "https://localhost:8080/"
        },
        "id": "EaOETZGpR6yv",
        "outputId": "1239abf1-faff-49f2-a67c-7350e50fb1b9"
      },
      "outputs": [],
      "source": [
        "import os\n",
        "import openai\n",
        "from getpass import getpass\n",
        "\n",
        "openai.api_key = getpass(\"OpenAI API Key: \")\n",
        "os.environ[\"OPENAI_API_KEY\"] = openai.api_key"
      ]
    },
    {
      "cell_type": "code",
      "execution_count": 46,
      "metadata": {},
      "outputs": [],
      "source": [
        "from aimakerspace.openai_utils.embedding import EmbeddingModel\n",
        "\n",
        "embedding_model = EmbeddingModel()"
      ]
    },
    {
      "cell_type": "markdown",
      "metadata": {},
      "source": [
        "Let's define our two sentences:"
      ]
    },
    {
      "cell_type": "code",
      "execution_count": 47,
      "metadata": {},
      "outputs": [],
      "source": [
        "jordan_sentence = \"Michael Jordan is the best player in history!\"\n",
        "james_sentence = \"LeBron James is the best player in history!\""
      ]
    },
    {
      "cell_type": "markdown",
      "metadata": {},
      "source": [
        "Now we can convert those into embedding vectors using OpenAI!"
      ]
    },
    {
      "cell_type": "code",
      "execution_count": 48,
      "metadata": {},
      "outputs": [],
      "source": [
        "jordan_vector = embedding_model.get_embedding(jordan_sentence)\n",
        "james_vector = embedding_model.get_embedding(james_sentence)"
      ]
    },
    {
      "cell_type": "markdown",
      "metadata": {},
      "source": [
        "Now we can determine how closely they are related using our distance measure!"
      ]
    },
    {
      "cell_type": "code",
      "execution_count": 49,
      "metadata": {},
      "outputs": [
        {
          "data": {
            "text/plain": [
              "0.7729577987888411"
            ]
          },
          "execution_count": 49,
          "metadata": {},
          "output_type": "execute_result"
        }
      ],
      "source": [
        "cosine_similarity(jordan_vector, james_vector)"
      ]
    },
    {
      "cell_type": "code",
      "execution_count": 50,
      "metadata": {},
      "outputs": [
        {
          "name": "stdout",
          "output_type": "stream",
          "text": [
            "Euclidean Distance: [1.30596333e-246 2.44851339e-115 2.50495479e-126 ... 9.70678715e+260\n",
            " 3.09829387e+113 9.04612703e+264]\n"
          ]
        },
        {
          "name": "stderr",
          "output_type": "stream",
          "text": [
            "/home/mpopovic1/anaconda3/envs/llmops-course2/lib/python3.11/site-packages/numpy/linalg/linalg.py:2592: RuntimeWarning: overflow encountered in power\n",
            "  ret **= reciprocal(ord, dtype=ret.dtype)\n"
          ]
        }
      ],
      "source": [
        "def euclidean_distance(jordan_vector, james_vector):\n",
        "    return np.linalg.norm(jordan_vector, james_vector)\n",
        "\n",
        "# Calculate distance\n",
        "distance = euclidean_distance(jordan_vector, james_vector)\n",
        "print(f\"Euclidean Distance: {distance}\")"
      ]
    },
    {
      "cell_type": "markdown",
      "metadata": {},
      "source": [
        "Remember, with cosine similarity, close to 1. means they're very close!\n",
        "\n",
        "Let's see what happens if we use a different set of sentences."
      ]
    },
    {
      "cell_type": "code",
      "execution_count": 51,
      "metadata": {},
      "outputs": [
        {
          "data": {
            "text/plain": [
              "0.37243333229832976"
            ]
          },
          "execution_count": 51,
          "metadata": {},
          "output_type": "execute_result"
        }
      ],
      "source": [
        "puppy_sentence = \"I love puppies!\"\n",
        "cat_sentence = \"I dislike cats!\"\n",
        "\n",
        "puppy_vector = embedding_model.get_embedding(puppy_sentence)\n",
        "cat_vector = embedding_model.get_embedding(cat_sentence)\n",
        "\n",
        "cosine_similarity(puppy_vector, cat_vector)"
      ]
    },
    {
      "cell_type": "markdown",
      "metadata": {},
      "source": [
        "As you can see - these vectors are further apart - as expected!\n",
        "\n",
        "Now that we've gotten some background - lets see this put together with a few extra layers on top!"
      ]
    },
    {
      "cell_type": "markdown",
      "metadata": {},
      "source": [
        "### Vector Database\n",
        "\n",
        "Let's set up our vector database to hold all our documents and their embeddings!"
      ]
    },
    {
      "cell_type": "markdown",
      "metadata": {
        "id": "kDQrfAR1R6yv"
      },
      "source": [
        "While this is all baked into 1 call - we can look at some of the code that powers this process to get a better understanding:\n",
        "\n",
        "Let's look at our `VectorDatabase().__init__()`:\n",
        "\n",
        "```python\n",
        "def __init__(self, embedding_model: EmbeddingModel = None):\n",
        "        self.vectors = defaultdict(np.array)\n",
        "        self.embedding_model = embedding_model or EmbeddingModel()\n",
        "```\n",
        "\n",
        "As you can see - our vectors are merely stored as a dictionary of `np.array` objects.\n",
        "\n",
        "Secondly, our `VectorDatabase()` has a default `EmbeddingModel()` which is a wrapper for OpenAI's `text-embedding-3-small` model.\n",
        "\n",
        "> **Quick Info About `text-embedding-3-small`**:\n",
        "> - It has a context window of **8191** tokens\n",
        "> - It returns vectors with dimension **1536**"
      ]
    },
    {
      "cell_type": "markdown",
      "metadata": {
        "id": "L273pRdeR6yv"
      },
      "source": [
        "#### ❓Question #1:\n",
        "\n",
        "The default embedding dimension of `text-embedding-3-small` is 1536, as noted above. \n",
        "\n",
        "1. Is there any way to modify this dimension?\n",
        "\n",
        "Yes, we can modify in text-embedding-3 or later model\n",
        "\n",
        "2. What technique does OpenAI use to achieve this?\n",
        "\n",
        "In general, using the dimensions parameter when creating the embedding is the suggested approach. In certain cases, you may need to change the embedding dimension after you generate it. When you change the dimension manually, you need to be sure to normalize the dimensions of the embedding\n",
        "\n",
        "> NOTE: Check out this [API documentation](https://platform.openai.com/docs/api-reference/embeddings/create) for the answer to question #1, and [this documentation](https://platform.openai.com/docs/guides/embeddings/use-cases) for an answer to question #2!"
      ]
    },
    {
      "cell_type": "markdown",
      "metadata": {
        "id": "w5FZY7K3R6yv"
      },
      "source": [
        "We can call the `async_get_embeddings` method of our `EmbeddingModel()` on a list of `str` and receive a list of `float` back!\n",
        "\n",
        "```python\n",
        "async def async_get_embeddings(self, list_of_text: List[str]) -> List[List[float]]:\n",
        "        return await aget_embeddings(\n",
        "            list_of_text=list_of_text, engine=self.embeddings_model_name\n",
        "        )\n",
        "```"
      ]
    },
    {
      "cell_type": "markdown",
      "metadata": {
        "id": "cSct6X0aR6yv"
      },
      "source": [
        "We cast those to `np.array` when we build our `VectorDatabase()`:\n",
        "\n",
        "```python\n",
        "async def abuild_from_list(self, list_of_text: List[str]) -> \"VectorDatabase\":\n",
        "        embeddings = await self.embedding_model.async_get_embeddings(list_of_text)\n",
        "        for text, embedding in zip(list_of_text, embeddings):\n",
        "            self.insert(text, np.array(embedding))\n",
        "        return self\n",
        "```\n",
        "\n",
        "And that's all we need to do!"
      ]
    },
    {
      "cell_type": "code",
      "execution_count": 52,
      "metadata": {
        "id": "O4KoLbVDR6yv"
      },
      "outputs": [],
      "source": [
        "vector_db = VectorDatabase()\n",
        "vector_db = asyncio.run(vector_db.abuild_from_list(split_documents))"
      ]
    },
    {
      "cell_type": "markdown",
      "metadata": {
        "id": "SSZwaGvpR6yv"
      },
      "source": [
        "#### ❓Question #2:\n",
        "\n",
        "What are the benefits of using an `async` approach to collecting our embeddings?\n",
        "\n",
        "Async approach for collecting embeddings can lead to a more efficient, responsive, and scalable system, capable of handling large volumes of data and high concurrency with better resource management.\n",
        "\n",
        "\n",
        "\n",
        "\n",
        "\n",
        "\n",
        "\n",
        "\n",
        "> NOTE: Determining the core difference between `async` and `sync` will be useful! If you get stuck - ask ChatGPT!"
      ]
    },
    {
      "cell_type": "markdown",
      "metadata": {
        "id": "nRBdIt-xR6yw"
      },
      "source": [
        "So, to review what we've done so far in natural language:\n",
        "\n",
        "1. We load source documents\n",
        "2. We split those source documents into smaller chunks (documents)\n",
        "3. We send each of those documents to the `text-embedding-3-small` OpenAI API endpoint\n",
        "4. We store each of the text representations with the vector representations as keys/values in a dictionary"
      ]
    },
    {
      "cell_type": "markdown",
      "metadata": {
        "id": "4-vWANZyR6yw"
      },
      "source": [
        "### Semantic Similarity\n",
        "\n",
        "The next step is to be able to query our `VectorDatabase()` with a `str` and have it return to us vectors and text that is most relevant from our corpus.\n",
        "\n",
        "We're going to use the following process to achieve this in our toy example:\n",
        "\n",
        "1. We need to embed our query with the same `EmbeddingModel()` as we used to construct our `VectorDatabase()`\n",
        "2. We loop through every vector in our `VectorDatabase()` and use a distance measure to compare how related they are\n",
        "3. We return a list of the top `k` closest vectors, with their text representations\n",
        "\n",
        "There's some very heavy optimization that can be done at each of these steps - but let's just focus on the basic pattern in this notebook.\n",
        "\n",
        "> We are using [cosine similarity](https://www.engati.com/glossary/cosine-similarity) as a distance metric in this example - but there are many many distance metrics you could use - like [these](https://flavien-vidal.medium.com/similarity-distances-for-natural-language-processing-16f63cd5ba55)\n",
        "\n",
        "> We are using a rather inefficient way of calculating relative distance between the query vector and all other vectors - there are more advanced approaches that are much more efficient, like [ANN](https://towardsdatascience.com/comprehensive-guide-to-approximate-nearest-neighbors-algorithms-8b94f057d6b6)"
      ]
    },
    {
      "cell_type": "code",
      "execution_count": 53,
      "metadata": {
        "colab": {
          "base_uri": "https://localhost:8080/"
        },
        "id": "76d96uavR6yw",
        "outputId": "bbfccc31-20a2-41c7-c14d-46554a43ed2d"
      },
      "outputs": [
        {
          "data": {
            "text/plain": [
              "[('46\\n47\\nPREGLED POSLOVANJA   SAŽETAK KLJUČNIH FINANCIJSKIH POKAZATELJA – HT GRUPA\\nPREGLED POSLOVANJA   SAŽETAK KLJUČNIH FINANCIJSKIH POKAZATELJA – HT GRUPA\\nGlavna postignuća HT Grupe\\nFinancijsko poslovanje:\\n•\\t\\nPrihodi u 2023. porasli su za 55.831 tisuću eura (5,7%) na \\ngodišnjoj razini. Rast je uglavnom rezultat snažnog poslo-\\nvanja u segmentima privatnih i poslovnih korisnika.\\n•\\t\\nEBITDA prije jednokratnih stavki nakon najmova u 2023. \\nporasla je za 19.909 tisuća eura ili 5,3% na godišnjoj razi-\\nni. Rast u Hrvatskoj podržan je pozitivnim komercijalnim \\nzamahom i rastom prihoda koji je neutralizirao inflacijski \\npritisak na operativne troškove.\\n•\\t\\nNeto dobit nakon nekontrolirajućih udjela u 2023. porasla \\nje za 45.042 tisuće eura ili 51,8% na godišnjoj razini. Pove-\\nćanje je potaknuto poboljšanom EBITDA-om i još značaj-\\nnije pozitivnim neto financijskim rezultatom zbog rastućih \\nkamatnih stopa i jednokratnih stavki.\\n•\\t\\nNajveće ulaganje u povijesti HT-a u iznosu od 361,4 mili-\\njuna eura (+',\n",
              "  0.5764076661557995),\n",
              " ('sti kompanije koja su, \\nzajedno s ulaganjima u spektar, iznosila 361,4 milijuna eura te \\nsu predstavljala daleko najveća ulaganja na tržištu čime je po-\\ntvrđena predanost HT-a osiguravanju platforme za digitalizaciju \\nHrvatske i daljnji poslovni rast.\\nPrihodi u 2023. godini zabilježili su rast od 5,7% , EBITDA nakon \\nnajmova rasla je 5,3% na godišnjoj osnovi, a neto dobit je porasla \\n51,8% u odnosu na 2022. godinu. Zaključuje se kako je HT Grupa \\nuspješno odgovorila na tržišne izazove i zadržala vodeći položaj \\nna hrvatskom telekomunikacijskom tržištu u svim područjima \\nsvojeg poslovanja u 2023. godini.\\nOvo Izvješće će se dostaviti Glavnoj skupštini Društva.  \\nElvira Gonzalez Sevilla \\npredsjednica Nadzornog odbora \\n28\\n29\\n',\n",
              "  0.5641871307772245),\n",
              " ('40\\n41\\nPREGLED POSLOVANJA   SAŽETAK KLJUČNIH FINANCIJSKIH POKAZATELJA - HT GRUPA U HRVATSKOJ\\nPREGLED POSLOVANJA   SAŽETAK KLJUČNIH FINANCIJSKIH POKAZATELJA - HT GRUPA\\nSAŽETAK KLJUČNIH FINANCIJSKIH \\nPOKAZATELJA\\nHT Grupa je u 2022. godini promijenila način prezentacije prihoda kako bi isti bili usklađeni sa poslovnim izvještavanjem. Navedena \\nprilagodba nije imala utjecaja na ukupan iznos prihoda.\\nHT GRUPA U HRVATSKOJ\\nHT GRUPA\\nKljučni financijski podaci  (u tisućama EUR)\\n2022.\\n2023.\\n% promjene \\n \\n23./22.\\nPrihod\\n983.504\\n1.039.335\\n5,7%\\nPrilagođena EBITDA AL\\n377.613\\n397.522\\n5,3%\\nMarža prilagođene EBITDA AL\\n38,4%\\n38,2%\\n-0,2 p.p.\\nEBITDA AL \\n363.920\\n384.459\\n5,6%\\nMarža EBITDA AL\\n37,0%\\n37,0%\\n0,0 p.p.\\nEBIT\\n125.606\\n161.390\\n28,5%\\nMarža EBIT\\n12,8%\\n15,5%\\n2,7 p.p.\\nNeto dobit nakon nekontrolirajućih udjela\\n86.987\\n132.029\\n51,8%\\nMarža neto dobiti\\n8,8%\\n12,7%\\n3,9 p.p.\\nINVESTICIJE nakon najma\\n230.550\\n220.980\\n-4,2%\\nOmjer INVESTICIJE nakon najma / prihodi\\n23,4%\\n21,3%\\n-2,1 p.p.\\nKljučni financijski podaci  (u ti',\n",
              "  0.5552014507358349)]"
            ]
          },
          "execution_count": 53,
          "metadata": {},
          "output_type": "execute_result"
        }
      ],
      "source": [
        "vector_db.search_by_text(\"How large was HT's EBITDA in 2023?\", k=3)"
      ]
    },
    {
      "cell_type": "markdown",
      "metadata": {
        "id": "TehsfIiKR6yw"
      },
      "source": [
        "## Task 4: Prompts\n",
        "\n",
        "In the following section, we'll be looking at the role of prompts - and how they help us to guide our application in the right direction.\n",
        "\n",
        "In this notebook, we're going to rely on the idea of \"zero-shot in-context learning\".\n",
        "\n",
        "This is a lot of words to say: \"We will ask it to perform our desired task in the prompt, and provide no examples.\""
      ]
    },
    {
      "cell_type": "markdown",
      "metadata": {
        "id": "yXpA0UveR6yw"
      },
      "source": [
        "### XYZRolePrompt\n",
        "\n",
        "Before we do that, let's stop and think a bit about how OpenAI's chat models work.\n",
        "\n",
        "We know they have roles - as is indicated in the following API [documentation](https://platform.openai.com/docs/api-reference/chat/create#chat/create-messages)\n",
        "\n",
        "There are three roles, and they function as follows (taken directly from [OpenAI](https://platform.openai.com/docs/guides/gpt/chat-completions-api)):\n",
        "\n",
        "- `{\"role\" : \"system\"}` : The system message helps set the behavior of the assistant. For example, you can modify the personality of the assistant or provide specific instructions about how it should behave throughout the conversation. However note that the system message is optional and the model’s behavior without a system message is likely to be similar to using a generic message such as \"You are a helpful assistant.\"\n",
        "- `{\"role\" : \"user\"}` : The user messages provide requests or comments for the assistant to respond to.\n",
        "- `{\"role\" : \"assistant\"}` : Assistant messages store previous assistant responses, but can also be written by you to give examples of desired behavior.\n",
        "\n",
        "The main idea is this:\n",
        "\n",
        "1. You start with a system message that outlines how the LLM should respond, what kind of behaviours you can expect from it, and more\n",
        "2. Then, you can provide a few examples in the form of \"assistant\"/\"user\" pairs\n",
        "3. Then, you prompt the model with the true \"user\" message.\n",
        "\n",
        "In this example, we'll be forgoing the 2nd step for simplicities sake."
      ]
    },
    {
      "cell_type": "markdown",
      "metadata": {
        "id": "gdZ2KWKSR6yw"
      },
      "source": [
        "#### Utility Functions\n",
        "\n",
        "You'll notice that we're using some utility functions from the `aimakerspace` module - let's take a peek at these and see what they're doing!"
      ]
    },
    {
      "cell_type": "markdown",
      "metadata": {
        "id": "GFbeJDDsR6yw"
      },
      "source": [
        "##### XYZRolePrompt"
      ]
    },
    {
      "cell_type": "markdown",
      "metadata": {
        "id": "5mojJSE3R6yw"
      },
      "source": [
        "Here we have our `system`, `user`, and `assistant` role prompts.\n",
        "\n",
        "Let's take a peek at what they look like:\n",
        "\n",
        "```python\n",
        "class BasePrompt:\n",
        "    def __init__(self, prompt):\n",
        "        \"\"\"\n",
        "        Initializes the BasePrompt object with a prompt template.\n",
        "\n",
        "        :param prompt: A string that can contain placeholders within curly braces\n",
        "        \"\"\"\n",
        "        self.prompt = prompt\n",
        "        self._pattern = re.compile(r\"\\{([^}]+)\\}\")\n",
        "\n",
        "    def format_prompt(self, **kwargs):\n",
        "        \"\"\"\n",
        "        Formats the prompt string using the keyword arguments provided.\n",
        "\n",
        "        :param kwargs: The values to substitute into the prompt string\n",
        "        :return: The formatted prompt string\n",
        "        \"\"\"\n",
        "        matches = self._pattern.findall(self.prompt)\n",
        "        return self.prompt.format(**{match: kwargs.get(match, \"\") for match in matches})\n",
        "\n",
        "    def get_input_variables(self):\n",
        "        \"\"\"\n",
        "        Gets the list of input variable names from the prompt string.\n",
        "\n",
        "        :return: List of input variable names\n",
        "        \"\"\"\n",
        "        return self._pattern.findall(self.prompt)\n",
        "```\n",
        "\n",
        "Then we have our `RolePrompt` which laser focuses us on the role pattern found in most API endpoints for LLMs.\n",
        "\n",
        "```python\n",
        "class RolePrompt(BasePrompt):\n",
        "    def __init__(self, prompt, role: str):\n",
        "        \"\"\"\n",
        "        Initializes the RolePrompt object with a prompt template and a role.\n",
        "\n",
        "        :param prompt: A string that can contain placeholders within curly braces\n",
        "        :param role: The role for the message ('system', 'user', or 'assistant')\n",
        "        \"\"\"\n",
        "        super().__init__(prompt)\n",
        "        self.role = role\n",
        "\n",
        "    def create_message(self, **kwargs):\n",
        "        \"\"\"\n",
        "        Creates a message dictionary with a role and a formatted message.\n",
        "\n",
        "        :param kwargs: The values to substitute into the prompt string\n",
        "        :return: Dictionary containing the role and the formatted message\n",
        "        \"\"\"\n",
        "        return {\"role\": self.role, \"content\": self.format_prompt(**kwargs)}\n",
        "```\n",
        "\n",
        "We'll look at how the `SystemRolePrompt` is constructed to get a better idea of how that extension works:\n",
        "\n",
        "```python\n",
        "class SystemRolePrompt(RolePrompt):\n",
        "    def __init__(self, prompt: str):\n",
        "        super().__init__(prompt, \"system\")\n",
        "```\n",
        "\n",
        "That pattern is repeated for our `UserRolePrompt` and our `AssistantRolePrompt` as well."
      ]
    },
    {
      "cell_type": "markdown",
      "metadata": {
        "id": "D361R6sMR6yw"
      },
      "source": [
        "##### ChatOpenAI"
      ]
    },
    {
      "cell_type": "markdown",
      "metadata": {
        "id": "HJVQ2Pm8R6yw"
      },
      "source": [
        "Next we have our model, which is converted to a format analagous to libraries like LangChain and LlamaIndex.\n",
        "\n",
        "Let's take a peek at how that is constructed:\n",
        "\n",
        "```python\n",
        "class ChatOpenAI:\n",
        "    def __init__(self, model_name: str = \"gpt-3.5-turbo\"):\n",
        "        self.model_name = model_name\n",
        "        self.openai_api_key = os.getenv(\"OPENAI_API_KEY\")\n",
        "        if self.openai_api_key is None:\n",
        "            raise ValueError(\"OPENAI_API_KEY is not set\")\n",
        "\n",
        "    def run(self, messages, text_only: bool = True):\n",
        "        if not isinstance(messages, list):\n",
        "            raise ValueError(\"messages must be a list\")\n",
        "\n",
        "        openai.api_key = self.openai_api_key\n",
        "        response = openai.ChatCompletion.create(\n",
        "            model=self.model_name, messages=messages\n",
        "        )\n",
        "\n",
        "        if text_only:\n",
        "            return response.choices[0].message.content\n",
        "\n",
        "        return response\n",
        "```"
      ]
    },
    {
      "cell_type": "markdown",
      "metadata": {
        "id": "qCU7FfhIR6yw"
      },
      "source": [
        "#### ❓ Question #3:\n",
        "\n",
        "When calling the OpenAI API - are there any ways we can achieve more reproducible outputs?\n",
        "\n",
        "To receive (mostly) deterministic outputs across API calls, you can:\n",
        "\n",
        "Set the seed parameter to any integer of your choice and use the same value across requests you'd like deterministic outputs for.\n",
        "Ensure all other parameters (like prompt or temperature) are the exact same across requests.\n",
        "\n",
        "> NOTE: Check out [this section](https://platform.openai.com/docs/guides/text-generation/) of the OpenAI documentation for the answer!"
      ]
    },
    {
      "cell_type": "markdown",
      "metadata": {
        "id": "c5wcjMLCR6yw"
      },
      "source": [
        "### Creating and Prompting OpenAI's `gpt-3.5-turbo`!\n",
        "\n",
        "Let's tie all these together and use it to prompt `gpt-3.5-turbo`!"
      ]
    },
    {
      "cell_type": "code",
      "execution_count": 54,
      "metadata": {
        "id": "WIfpIot7R6yw"
      },
      "outputs": [],
      "source": [
        "from aimakerspace.openai_utils.prompts import (\n",
        "    UserRolePrompt,\n",
        "    SystemRolePrompt,\n",
        "    AssistantRolePrompt,\n",
        ")\n",
        "\n",
        "from aimakerspace.openai_utils.chatmodel import ChatOpenAI\n",
        "\n",
        "chat_openai = ChatOpenAI()\n",
        "user_prompt_template = \"{content}\"\n",
        "user_role_prompt = UserRolePrompt(user_prompt_template)\n",
        "system_prompt_template = (\n",
        "    \"You are an expert in {expertise}, you always answer in a kind way.\"\n",
        ")\n",
        "system_role_prompt = SystemRolePrompt(system_prompt_template)\n",
        "\n",
        "messages = [\n",
        "    user_role_prompt.create_message(\n",
        "        content=\"What is the best way to write a loop?\"\n",
        "    ),\n",
        "    system_role_prompt.create_message(expertise=\"Python\"),\n",
        "]\n",
        "\n",
        "response = chat_openai.run(messages)"
      ]
    },
    {
      "cell_type": "code",
      "execution_count": 55,
      "metadata": {
        "colab": {
          "base_uri": "https://localhost:8080/"
        },
        "id": "dHo7lssNR6yw",
        "outputId": "1d3823fa-bb6b-45f6-ddba-b41686388324"
      },
      "outputs": [
        {
          "name": "stdout",
          "output_type": "stream",
          "text": [
            "The best way to write a loop ultimately depends on the specific task you are trying to accomplish and the language you are using. However, in general, it is important to ensure that your loop is efficient, readable, and maintainable. Here are a few tips for writing a loop in Python:\n",
            "\n",
            "1. Use descriptive variable names: Choose variable names that clearly convey the purpose of the loop and the values it is iterating over.\n",
            "\n",
            "2. Be mindful of loop termination conditions: Make sure your loop has a clear termination condition to avoid infinite loops.\n",
            "\n",
            "3. Choose the appropriate type of loop: Use a for loop when you know the number of iterations in advance or a while loop when you need to loop based on a condition.\n",
            "\n",
            "4. Keep your code concise: Avoid writing overly complicated loops that are difficult to understand. If your loop logic becomes complex, consider breaking it down into smaller, more manageable parts.\n",
            "\n",
            "5. Use list comprehensions when appropriate: In Python, list comprehensions offer a concise and efficient way to create lists using a loop.\n",
            "\n",
            "Overall, the best way to write a loop is to strike a balance between efficiency, readability, and simplicity. It's always a good idea to test your loop with different inputs to ensure that it functions as intended. Remember, there is no one-size-fits-all approach to writing loops, so be flexible and adapt your approach to fit the specific requirements of your task.\n"
          ]
        }
      ],
      "source": [
        "print(response)"
      ]
    },
    {
      "cell_type": "markdown",
      "metadata": {
        "id": "r2nxxhB2R6yy"
      },
      "source": [
        "## Task 5: Retrieval Augmented Generation\n",
        "\n",
        "Now we can create a RAG prompt - which will help our system behave in a way that makes sense!\n",
        "\n",
        "There is much you could do here, many tweaks and improvements to be made!"
      ]
    },
    {
      "cell_type": "code",
      "execution_count": 56,
      "metadata": {
        "id": "D1hamzGaR6yy"
      },
      "outputs": [],
      "source": [
        "RAG_PROMPT_TEMPLATE = \"\"\" \\\n",
        "Use the provided context to answer the user's query.\n",
        "\n",
        "You may not answer the user's query unless there is specific context in the following text.\n",
        "\n",
        "If you do not know the answer, or cannot answer, please respond with \"I don't know\".\n",
        "\"\"\"\n",
        "\n",
        "rag_prompt = SystemRolePrompt(RAG_PROMPT_TEMPLATE)\n",
        "\n",
        "USER_PROMPT_TEMPLATE = \"\"\" \\\n",
        "Context:\n",
        "{context}\n",
        "\n",
        "User Query:\n",
        "{user_query}\n",
        "\"\"\"\n",
        "\n",
        "\n",
        "user_prompt = UserRolePrompt(USER_PROMPT_TEMPLATE)\n",
        "\n",
        "class RetrievalAugmentedQAPipeline:\n",
        "    def __init__(self, llm: ChatOpenAI(), vector_db_retriever: VectorDatabase) -> None:\n",
        "        self.llm = llm\n",
        "        self.vector_db_retriever = vector_db_retriever\n",
        "\n",
        "    def run_pipeline(self, user_query: str) -> str:\n",
        "        context_list = self.vector_db_retriever.search_by_text(user_query, k=4)\n",
        "\n",
        "        context_prompt = \"\"\n",
        "        for context in context_list:\n",
        "            context_prompt += context[0] + \"\\n\"\n",
        "\n",
        "        formatted_system_prompt = rag_prompt.create_message()\n",
        "\n",
        "        formatted_user_prompt = user_prompt.create_message(user_query=user_query, context=context_prompt)\n",
        "\n",
        "        return {\"response\" : self.llm.run([formatted_user_prompt, formatted_system_prompt]), \"context\" : context_list}"
      ]
    },
    {
      "cell_type": "markdown",
      "metadata": {
        "id": "zZIJI19uR6yz"
      },
      "source": [
        "#### ❓ Question #4:\n",
        "\n",
        "What prompting strategies could you use to make the LLM have a more thoughtful, detailed response?\n",
        "\n",
        "What is that strategy called?\n",
        "\n",
        "Chain of thought strategy\n",
        "\n",
        "> NOTE: You can look through the Week 1 Day 2 material for an answer to this question!"
      ]
    },
    {
      "cell_type": "code",
      "execution_count": 57,
      "metadata": {
        "id": "kqbE9fZ6R6yz"
      },
      "outputs": [],
      "source": [
        "retrieval_augmented_qa_pipeline = RetrievalAugmentedQAPipeline(\n",
        "    vector_db_retriever=vector_db,\n",
        "    llm=chat_openai\n",
        ")"
      ]
    },
    {
      "cell_type": "code",
      "execution_count": 58,
      "metadata": {
        "colab": {
          "base_uri": "https://localhost:8080/"
        },
        "id": "jAGhaCGOR6yz",
        "outputId": "e4fb3a1b-d2bc-4e18-ec31-dc0adf767163"
      },
      "outputs": [
        {
          "data": {
            "text/plain": [
              "{'response': \"In 2023, HT's EBITDA after lease costs was 384.459 thousand euros.\",\n",
              " 'context': [('46\\n47\\nPREGLED POSLOVANJA   SAŽETAK KLJUČNIH FINANCIJSKIH POKAZATELJA – HT GRUPA\\nPREGLED POSLOVANJA   SAŽETAK KLJUČNIH FINANCIJSKIH POKAZATELJA – HT GRUPA\\nGlavna postignuća HT Grupe\\nFinancijsko poslovanje:\\n•\\t\\nPrihodi u 2023. porasli su za 55.831 tisuću eura (5,7%) na \\ngodišnjoj razini. Rast je uglavnom rezultat snažnog poslo-\\nvanja u segmentima privatnih i poslovnih korisnika.\\n•\\t\\nEBITDA prije jednokratnih stavki nakon najmova u 2023. \\nporasla je za 19.909 tisuća eura ili 5,3% na godišnjoj razi-\\nni. Rast u Hrvatskoj podržan je pozitivnim komercijalnim \\nzamahom i rastom prihoda koji je neutralizirao inflacijski \\npritisak na operativne troškove.\\n•\\t\\nNeto dobit nakon nekontrolirajućih udjela u 2023. porasla \\nje za 45.042 tisuće eura ili 51,8% na godišnjoj razini. Pove-\\nćanje je potaknuto poboljšanom EBITDA-om i još značaj-\\nnije pozitivnim neto financijskim rezultatom zbog rastućih \\nkamatnih stopa i jednokratnih stavki.\\n•\\t\\nNajveće ulaganje u povijesti HT-a u iznosu od 361,4 mili-\\njuna eura (+',\n",
              "   0.5764076661557995),\n",
              "  ('sti kompanije koja su, \\nzajedno s ulaganjima u spektar, iznosila 361,4 milijuna eura te \\nsu predstavljala daleko najveća ulaganja na tržištu čime je po-\\ntvrđena predanost HT-a osiguravanju platforme za digitalizaciju \\nHrvatske i daljnji poslovni rast.\\nPrihodi u 2023. godini zabilježili su rast od 5,7% , EBITDA nakon \\nnajmova rasla je 5,3% na godišnjoj osnovi, a neto dobit je porasla \\n51,8% u odnosu na 2022. godinu. Zaključuje se kako je HT Grupa \\nuspješno odgovorila na tržišne izazove i zadržala vodeći položaj \\nna hrvatskom telekomunikacijskom tržištu u svim područjima \\nsvojeg poslovanja u 2023. godini.\\nOvo Izvješće će se dostaviti Glavnoj skupštini Društva.  \\nElvira Gonzalez Sevilla \\npredsjednica Nadzornog odbora \\n28\\n29\\n',\n",
              "   0.5641871307772245),\n",
              "  ('40\\n41\\nPREGLED POSLOVANJA   SAŽETAK KLJUČNIH FINANCIJSKIH POKAZATELJA - HT GRUPA U HRVATSKOJ\\nPREGLED POSLOVANJA   SAŽETAK KLJUČNIH FINANCIJSKIH POKAZATELJA - HT GRUPA\\nSAŽETAK KLJUČNIH FINANCIJSKIH \\nPOKAZATELJA\\nHT Grupa je u 2022. godini promijenila način prezentacije prihoda kako bi isti bili usklađeni sa poslovnim izvještavanjem. Navedena \\nprilagodba nije imala utjecaja na ukupan iznos prihoda.\\nHT GRUPA U HRVATSKOJ\\nHT GRUPA\\nKljučni financijski podaci  (u tisućama EUR)\\n2022.\\n2023.\\n% promjene \\n \\n23./22.\\nPrihod\\n983.504\\n1.039.335\\n5,7%\\nPrilagođena EBITDA AL\\n377.613\\n397.522\\n5,3%\\nMarža prilagođene EBITDA AL\\n38,4%\\n38,2%\\n-0,2 p.p.\\nEBITDA AL \\n363.920\\n384.459\\n5,6%\\nMarža EBITDA AL\\n37,0%\\n37,0%\\n0,0 p.p.\\nEBIT\\n125.606\\n161.390\\n28,5%\\nMarža EBIT\\n12,8%\\n15,5%\\n2,7 p.p.\\nNeto dobit nakon nekontrolirajućih udjela\\n86.987\\n132.029\\n51,8%\\nMarža neto dobiti\\n8,8%\\n12,7%\\n3,9 p.p.\\nINVESTICIJE nakon najma\\n230.550\\n220.980\\n-4,2%\\nOmjer INVESTICIJE nakon najma / prihodi\\n23,4%\\n21,3%\\n-2,1 p.p.\\nKljučni financijski podaci  (u ti',\n",
              "   0.5552014507358349),\n",
              "  ('anom EBITDA-om i još značaj-\\nnije pozitivnim neto financijskim rezultatom zbog rastućih \\nkamatnih stopa i jednokratnih stavki.\\n•\\t\\nNajveće ulaganje u povijesti HT-a u iznosu od 361,4 mili-\\njuna eura (+50,7% u odnosu na prošlu godinu). Osiguran \\nnajveći udio u radiofrekvencijskom spektru i dodatno pro-\\nširena najveća FTTH mreža u Hrvatskoj za više od 20% u \\nodnosu na prošlu godinu\\n•\\t\\nIsključujući ulaganje u Spektar, kapitalna ulaganja nakon \\nnajmova u 2023. niža su za 9.570 tisuća eura (4,2%) na \\ngodišnjoj razini, sa smanjenjem u HT Grupi u Hrvatskoj \\n(13.663 tisuće eura ili 6,4%) i povećanjem u CT-u (4.093 \\ntisuće eura ili 25,4%). Smanjenje HT Grupe u Hrvatskoj \\nuzrokovano je  fazama projekata, dok je povećanje u CT-u \\nrezultat dinamike kapitalizacije TV sadržaja i povećanih \\noperativnih ulaganja. \\nSegment privatnih korisnika:\\n•\\t\\nKljučne marketinške inicijative\\n•\\t\\nU siječnju 2023. Opći uvjeti su ažurirani kako bi uključili \\nindeksaciju, nakon čega je uslijedilo otvaranje korisnič-\\nke ba',\n",
              "   0.5479173253986617)]}"
            ]
          },
          "execution_count": 58,
          "metadata": {},
          "output_type": "execute_result"
        }
      ],
      "source": [
        "retrieval_augmented_qa_pipeline.run_pipeline(\"How large was HT's EBITDA in 2023?\")"
      ]
    },
    {
      "cell_type": "markdown",
      "metadata": {},
      "source": [
        "### 🏗️ Activity #1:\n",
        "\n",
        "Enhance your RAG application in some way! \n",
        "\n",
        "Suggestions are: \n",
        "\n",
        "- Allow it to work with PDF files\n",
        "- Implement a new distance metric\n",
        "- Add metadata support to the vector database\n",
        "\n",
        "While these are suggestions, you should feel free to make whatever augmentations you desire! \n",
        "\n",
        "> NOTE: These additions might require you to work within the `aimakerspace` library - that's expected!"
      ]
    },
    {
      "cell_type": "markdown",
      "metadata": {
        "id": "8QqpYXj2R6yz"
      },
      "source": [
        "## Task 6: Visibility Tooling\n",
        "\n",
        "This is great, but what if we wanted to add some visibility to our pipeline?\n",
        "\n",
        "Let's use Weights and Biases as a visibility tool!\n",
        "\n",
        "The first thing we'll need to do is create a Weights and Biases account and get an API key.\n",
        "\n",
        "You can follow the process outlined [here](https://docs.wandb.ai/quickstart) to do exactly that!"
      ]
    },
    {
      "cell_type": "markdown",
      "metadata": {
        "id": "2nST5OrAR6yz"
      },
      "source": [
        "Now we can get the Weights and Biases dependency and add our key to our env. to begin!"
      ]
    },
    {
      "cell_type": "code",
      "execution_count": 59,
      "metadata": {
        "colab": {
          "base_uri": "https://localhost:8080/"
        },
        "id": "y54bofQQR6yz",
        "outputId": "6df38604-c2e0-4870-d5de-db165ea830ba"
      },
      "outputs": [],
      "source": [
        "! pip install -qU wandb"
      ]
    },
    {
      "cell_type": "code",
      "execution_count": 60,
      "metadata": {
        "colab": {
          "base_uri": "https://localhost:8080/"
        },
        "id": "SzunMw9_R6yz",
        "outputId": "f2506283-6b0d-4a1b-cb5a-65839c6445b1"
      },
      "outputs": [],
      "source": [
        "wandb_key = getpass(\"Weights and Biases API Key: \")\n",
        "os.environ[\"WANDB_API_KEY\"] = wandb_key"
      ]
    },
    {
      "cell_type": "code",
      "execution_count": 61,
      "metadata": {
        "colab": {
          "base_uri": "https://localhost:8080/",
          "height": 143
        },
        "id": "Iv1f27ebR6yz",
        "outputId": "34dd085e-0468-4657-d105-71ecc4b633fe"
      },
      "outputs": [
        {
          "data": {
            "text/html": [
              "Tracking run with wandb version 0.17.1"
            ],
            "text/plain": [
              "<IPython.core.display.HTML object>"
            ]
          },
          "metadata": {},
          "output_type": "display_data"
        },
        {
          "data": {
            "text/html": [
              "Run data is saved locally in <code>/home/mpopovic1/bootcamp/code/Vjezba/AI-Engineering-3/Week 2/Day 1/wandb/run-20240611_125139-07x5mb58</code>"
            ],
            "text/plain": [
              "<IPython.core.display.HTML object>"
            ]
          },
          "metadata": {},
          "output_type": "display_data"
        },
        {
          "data": {
            "text/html": [
              "Syncing run <strong><a href='https://wandb.ai/hrvatski_telekom/Financijsko_izvjesce/runs/07x5mb58' target=\"_blank\">radiant-grass-2</a></strong> to <a href='https://wandb.ai/hrvatski_telekom/Financijsko_izvjesce' target=\"_blank\">Weights & Biases</a> (<a href='https://wandb.me/run' target=\"_blank\">docs</a>)<br/>"
            ],
            "text/plain": [
              "<IPython.core.display.HTML object>"
            ]
          },
          "metadata": {},
          "output_type": "display_data"
        },
        {
          "data": {
            "text/html": [
              " View project at <a href='https://wandb.ai/hrvatski_telekom/Financijsko_izvjesce' target=\"_blank\">https://wandb.ai/hrvatski_telekom/Financijsko_izvjesce</a>"
            ],
            "text/plain": [
              "<IPython.core.display.HTML object>"
            ]
          },
          "metadata": {},
          "output_type": "display_data"
        },
        {
          "data": {
            "text/html": [
              " View run at <a href='https://wandb.ai/hrvatski_telekom/Financijsko_izvjesce/runs/07x5mb58' target=\"_blank\">https://wandb.ai/hrvatski_telekom/Financijsko_izvjesce/runs/07x5mb58</a>"
            ],
            "text/plain": [
              "<IPython.core.display.HTML object>"
            ]
          },
          "metadata": {},
          "output_type": "display_data"
        },
        {
          "data": {
            "text/html": [
              "<button onClick=\"this.nextSibling.style.display='block';this.style.display='none';\">Display W&B run</button><iframe src='https://wandb.ai/hrvatski_telekom/Financijsko_izvjesce/runs/07x5mb58?jupyter=true' style='border:none;width:100%;height:420px;display:none;'></iframe>"
            ],
            "text/plain": [
              "<wandb.sdk.wandb_run.Run at 0x7fa7afe093d0>"
            ]
          },
          "execution_count": 61,
          "metadata": {},
          "output_type": "execute_result"
        }
      ],
      "source": [
        "import wandb\n",
        "\n",
        "wandb.init(project=\"Financijsko_izvjesce\")"
      ]
    },
    {
      "cell_type": "markdown",
      "metadata": {
        "id": "iezOc48XR6yz"
      },
      "source": [
        "Now we can integrate Weights and Biases into our `RetrievalAugmentedQAPipeline`.\n",
        "\n",
        "```python\n",
        "if self.wandb_project:\n",
        "            root_span = Trace(\n",
        "                name=\"root_span\",\n",
        "                kind=\"llm\",\n",
        "                status_code=status,\n",
        "                status_message=status_message,\n",
        "                start_time_ms=start_time,\n",
        "                end_time_ms=end_time,\n",
        "                metadata={\n",
        "                    \"token_usage\" : token_usage\n",
        "                },\n",
        "                inputs= {\"system_prompt\" : formatted_system_prompt, \"user_prompt\" : formatted_user_prompt},\n",
        "                outputs= {\"response\" : response_text}\n",
        "            )\n",
        "\n",
        "            root_span.log(name=\"openai_trace\")\n",
        "```\n",
        "\n",
        "The main things to consider here are how to populate the various fields to make sure we're tracking useful information.\n",
        "\n",
        "We'll use the `text_only` flag to ensure we can get detailed information about our LLM call!\n",
        "\n",
        "You can check out all the parameters for Weights and Biases `Trace` [here](https://github.com/wandb/wandb/blob/653015a014281f45770aaf43627f64d9c4f04a32/wandb/sdk/data_types/trace_tree.py#L166)"
      ]
    },
    {
      "cell_type": "code",
      "execution_count": 62,
      "metadata": {
        "id": "fqe4D27QR6yz"
      },
      "outputs": [],
      "source": [
        "import datetime\n",
        "from wandb.sdk.data_types.trace_tree import Trace\n",
        "\n",
        "class RetrievalAugmentedGenerationPipeline:\n",
        "    def __init__(self, llm: ChatOpenAI(), vector_db_retriever: VectorDatabase, wandb_project = None) -> None:\n",
        "        self.llm = llm\n",
        "        self.vector_db_retriever = vector_db_retriever\n",
        "        self.wandb_project = wandb_project\n",
        "\n",
        "    def run_pipeline(self, user_query: str) -> str:\n",
        "        context_list = self.vector_db_retriever.search_by_text(user_query, k=4)\n",
        "\n",
        "        context_prompt = \"\"\n",
        "        for context in context_list:\n",
        "            context_prompt += context[0] + \"\\n\"\n",
        "\n",
        "        formatted_system_prompt = rag_prompt.create_message()\n",
        "\n",
        "        formatted_user_prompt = user_prompt.create_message(user_query=user_query, context=context_prompt)\n",
        "\n",
        "\n",
        "        start_time = datetime.datetime.now().timestamp() * 1000\n",
        "\n",
        "        try:\n",
        "            openai_response = self.llm.run([formatted_system_prompt, formatted_user_prompt], text_only=False)\n",
        "            end_time = datetime.datetime.now().timestamp() * 1000\n",
        "            status = \"success\"\n",
        "            status_message = (None, )\n",
        "            response_text = openai_response.choices[0].message.content\n",
        "            token_usage = dict(openai_response.usage)\n",
        "            model = openai_response.model\n",
        "\n",
        "        except Exception as e:\n",
        "            end_time = datetime.datetime.now().timestamp() * 1000\n",
        "            status = \"error\"\n",
        "            status_message = str(e)\n",
        "            response_text = \"\"\n",
        "            token_usage = {}\n",
        "            model = \"\"\n",
        "\n",
        "        if self.wandb_project:\n",
        "            root_span = Trace(\n",
        "                name=\"root_span\",\n",
        "                kind=\"llm\",\n",
        "                status_code=status,\n",
        "                status_message=status_message,\n",
        "                start_time_ms=start_time,\n",
        "                end_time_ms=end_time,\n",
        "                metadata={\n",
        "                    \"token_usage\" : token_usage,\n",
        "                    \"model_name\" : model\n",
        "                },\n",
        "                inputs= {\"system_prompt\" : formatted_system_prompt, \"user_prompt\" : formatted_user_prompt},\n",
        "                outputs= {\"response\" : response_text}\n",
        "            )\n",
        "\n",
        "            root_span.log(name=\"openai_trace\")\n",
        "\n",
        "        return {\"response\" : self.llm.run([formatted_user_prompt, formatted_system_prompt]), \"context\" : context_list} if response_text else \"We ran into an error. Please try again later. Full Error Message: \" + status_message"
      ]
    },
    {
      "cell_type": "code",
      "execution_count": 63,
      "metadata": {
        "id": "aa1_0P1YR6yz"
      },
      "outputs": [],
      "source": [
        "retrieval_augmented_qa_pipeline = RetrievalAugmentedGenerationPipeline(\n",
        "    vector_db_retriever=vector_db,\n",
        "    llm=chat_openai,\n",
        "    wandb_project=\"LLM Visibility Example\"\n",
        ")"
      ]
    },
    {
      "cell_type": "code",
      "execution_count": 31,
      "metadata": {
        "colab": {
          "base_uri": "https://localhost:8080/"
        },
        "id": "OKSpyeg-R6yz",
        "outputId": "0d6358c9-4775-4734-f49d-851814de37c5"
      },
      "outputs": [
        {
          "data": {
            "text/plain": [
              "{'response': \"I don't know.\",\n",
              " 'context': [('00 di-\\nonica.\\nStruktura dioničara na dan 31. prosinca 2023.\\nDeutsche Telekom Europe B.V.\\n53,0%\\nFond hrvatskih branitelja\\n6,9%\\nCentar za restrukturiranje i prodaju \\n(CERP)/Republika Hrvatska\\n2,7%\\nPrivatni i drugi institucionalni investitori\\n37,4%\\nUkupan broj izdanih dionica: 78.775.842\\n \\nStruktura dioničara na dan 2. siječnja 2024.\\nDeutsche Telekom Europe B.V.\\n53,5%\\nFond hrvatskih branitelja\\n7,0%\\nCentar za restrukturiranje i prodaju \\n(CERP)/Republika Hrvatska\\n2,7%\\nPrivatni i drugi institucionalni investitori\\n36,8%\\nUkupan broj izdanih dionica: 78.000.000\\nDeutsche Telekom Europe B.V., većinski vlasnik HT-a, je u kraj-\\nnjem vlasništvu Deutsche Telekoma AG.\\nMeđu privatnim i institucionalnim ulagateljima kao ulagatelj s \\nnajvećim vlasničkim udjelom nalaze se Raiffeisen mirovinski fon-\\ndovi koji posjeduju 11,2% dionica Društva.\\nFinancijski kalendar\\nDatum\\nObjava nerevidiranih rezultata za \\nčetvrto tromjesečje i cijelu 2023. \\ngodinu\\n23. veljače, 2024.\\nObjava revidiranih rezultata za cijelu \\n202',\n",
              "   0.07483510344621495),\n",
              "  ('82\\n83\\nKONSOLIDIRANI I POJEDINAČNI FINANCIJSKI IZVJEŠTAJI   POJEDINAČNI IZVJEŠTAJ O PROMJENAMA KAPITALA\\nKONSOLIDIRANI I POJEDINAČNI FINANCIJSKI IZVJEŠTAJI   BILJEŠKE UZ KONSOLIDIRANE I POJEDINAČNE FINANCIJSKE IZVJEŠTAJE\\nBILJEŠKE UZ KONSOLIDIRANE I \\nPOJEDINAČNE FINANCIJSKE IZVJEŠTAJE \\nZa godinu završenu 31. prosinca 2023. godine\\n1  Korporativne informacije\\nHrvatski Telekom d.d. („HT“ ili „Društvo“) je dioničko društvo čiji \\nje većinski vlasnik društvo Deutsche Telekom Europe B.V. koje \\ndrži 53,02% temeljnog kapitala Društva. Deutsche Telekom Eu-\\nrope Holding B.V. u 100%-tnom je vlasništvu Deutsche Telekom \\nEurope Holding B.V. Deutsche Telekom Europe Holding B.V. je u \\n100%-tnom vlasništvu Deutsche Telekom Europe Holding GmbH \\nčiji je 100%-tni vlasnik Deutsche Telekom AG (“DTAG”). Dakle, \\nDeutsche Telekom AG je krajnje matično društvo.\\nRegistrirana adresa ureda Društva je Radnička cesta 21, Zagreb, \\nHrvatska.\\nOd ovog izvještajnog razdoblja po prvi put se izdaju konsolidirani \\ni odvojeni f',\n",
              "   0.07439318166188867),\n",
              "  (' pokazujući otpornost i temeljni potencijal.\\nDionica HT-a u odnosu na CROBEX i indeks STOXX® Europe 600 \\nTelecommunications, 31. prosinca 2022. – 31. prosinca 2023.\\n %\\nCrobex\\nSTOXX® Europe 600 Telecommunications\\nHT dionica\\n135\\n125\\n115\\n105\\n95\\n85\\n75\\npro 22                         sij 23                         velj 23                         ožu 23                         tra 23                         svi 23                         lip 23                         srp 23                         kol 23                         ruj 23                         lis 23                         stu 23                         pro 23\\nS prometom od 30,4 milijuna eura, HT je bio jedna od najtrgo-\\nvanijih dionica na Zagrebačkoj burzi prema vrijednosti (2022. \\ngodina: 53,2 milijuna eura). \\nOd inicijalne javne ponude u listopadu 2007. godine, dionicama \\nHT-a trguje se na Zagrebačkoj burzi, a na Londonskoj burzi trgo-\\nvalo se globalnim potvrdama depozitara sve do ukidanja uvr-\\nštenja i prestanka opticaja ',\n",
              "   0.06461260629441967),\n",
              "  ('\\n 0,00\\n3.\\nOsnovni kapital (OK)\\n     1.212.968.768,15 \\n \\n \\n       1.212.968.768,15 \\n \\n \\n \\n4.\\nDopunski kapital (DK)\\n0,00\\n0,00\\n 0,00\\n5.\\nUkupni regulatorni kapital\\n \\n       1.212.968.768,15 \\n \\n \\n \\nRed.br.\\nIzračun\\nIznos\\nu eurima\\n1.\\nProsječni neiskorišteni elektronički novac\\n146,98\\n2.\\nMinimalno potreban regulatorni kapital za djelatnost izdavanja elektroničkog novca\\n2,94\\nKONSOLIDIRANI I POJEDINAČNI FINANCIJSKI IZVJEŠTAJI   BILJEŠKE UZ KONSOLIDIRANE I POJEDINAČNE FINANCIJSKE IZVJEŠTAJE\\nKONSOLIDIRANI I POJEDINAČNI FINANCIJSKI IZVJEŠTAJI   BILJEŠKE UZ KONSOLIDIRANE I POJEDINAČNE FINANCIJSKE IZVJEŠTAJE\\nBILJEŠKE UZ KONSOLIDIRANE I POJEDINAČNE \\nFINANCIJSKE IZVJEŠTAJE  (NASTAVAK)\\nZa godinu završenu 31. prosinca 2023. godine\\n',\n",
              "   0.0635496683209598)]}"
            ]
          },
          "execution_count": 31,
          "metadata": {},
          "output_type": "execute_result"
        }
      ],
      "source": [
        "retrieval_augmented_qa_pipeline.run_pipeline(\"Who is Batman?\")"
      ]
    },
    {
      "cell_type": "code",
      "execution_count": 64,
      "metadata": {
        "colab": {
          "base_uri": "https://localhost:8080/"
        },
        "id": "SbB0xcCRR6yz",
        "outputId": "7ba2fc10-abbe-40ec-eca8-22e1116300a5"
      },
      "outputs": [
        {
          "data": {
            "text/plain": [
              "{'response': \"In 2023, HT Group performed well financially. The company saw a 5.7% increase in revenue, a 5.3% growth in adjusted EBITDA, and a significant 51.8% rise in net profit compared to the previous year. These positive results were attributed to strong business performance in both private and business customer segments, supported by commercial momentum and revenue growth that offset inflationary pressures on operational costs. Additionally, HT made its largest investment in history, totaling 361.4 million euros, which reaffirmed the company's commitment to providing a platform for the digitalization of Croatia and further business growth. Overall, HT Group successfully responded to market challenges and maintained its leading position in the Croatian telecommunications market in 2023.\",\n",
              " 'context': [('40\\n41\\nPREGLED POSLOVANJA   SAŽETAK KLJUČNIH FINANCIJSKIH POKAZATELJA - HT GRUPA U HRVATSKOJ\\nPREGLED POSLOVANJA   SAŽETAK KLJUČNIH FINANCIJSKIH POKAZATELJA - HT GRUPA\\nSAŽETAK KLJUČNIH FINANCIJSKIH \\nPOKAZATELJA\\nHT Grupa je u 2022. godini promijenila način prezentacije prihoda kako bi isti bili usklađeni sa poslovnim izvještavanjem. Navedena \\nprilagodba nije imala utjecaja na ukupan iznos prihoda.\\nHT GRUPA U HRVATSKOJ\\nHT GRUPA\\nKljučni financijski podaci  (u tisućama EUR)\\n2022.\\n2023.\\n% promjene \\n \\n23./22.\\nPrihod\\n983.504\\n1.039.335\\n5,7%\\nPrilagođena EBITDA AL\\n377.613\\n397.522\\n5,3%\\nMarža prilagođene EBITDA AL\\n38,4%\\n38,2%\\n-0,2 p.p.\\nEBITDA AL \\n363.920\\n384.459\\n5,6%\\nMarža EBITDA AL\\n37,0%\\n37,0%\\n0,0 p.p.\\nEBIT\\n125.606\\n161.390\\n28,5%\\nMarža EBIT\\n12,8%\\n15,5%\\n2,7 p.p.\\nNeto dobit nakon nekontrolirajućih udjela\\n86.987\\n132.029\\n51,8%\\nMarža neto dobiti\\n8,8%\\n12,7%\\n3,9 p.p.\\nINVESTICIJE nakon najma\\n230.550\\n220.980\\n-4,2%\\nOmjer INVESTICIJE nakon najma / prihodi\\n23,4%\\n21,3%\\n-2,1 p.p.\\nKljučni financijski podaci  (u ti',\n",
              "   0.6057924036444159),\n",
              "  ('sti kompanije koja su, \\nzajedno s ulaganjima u spektar, iznosila 361,4 milijuna eura te \\nsu predstavljala daleko najveća ulaganja na tržištu čime je po-\\ntvrđena predanost HT-a osiguravanju platforme za digitalizaciju \\nHrvatske i daljnji poslovni rast.\\nPrihodi u 2023. godini zabilježili su rast od 5,7% , EBITDA nakon \\nnajmova rasla je 5,3% na godišnjoj osnovi, a neto dobit je porasla \\n51,8% u odnosu na 2022. godinu. Zaključuje se kako je HT Grupa \\nuspješno odgovorila na tržišne izazove i zadržala vodeći položaj \\nna hrvatskom telekomunikacijskom tržištu u svim područjima \\nsvojeg poslovanja u 2023. godini.\\nOvo Izvješće će se dostaviti Glavnoj skupštini Društva.  \\nElvira Gonzalez Sevilla \\npredsjednica Nadzornog odbora \\n28\\n29\\n',\n",
              "   0.5952886812088126),\n",
              "  ('46\\n47\\nPREGLED POSLOVANJA   SAŽETAK KLJUČNIH FINANCIJSKIH POKAZATELJA – HT GRUPA\\nPREGLED POSLOVANJA   SAŽETAK KLJUČNIH FINANCIJSKIH POKAZATELJA – HT GRUPA\\nGlavna postignuća HT Grupe\\nFinancijsko poslovanje:\\n•\\t\\nPrihodi u 2023. porasli su za 55.831 tisuću eura (5,7%) na \\ngodišnjoj razini. Rast je uglavnom rezultat snažnog poslo-\\nvanja u segmentima privatnih i poslovnih korisnika.\\n•\\t\\nEBITDA prije jednokratnih stavki nakon najmova u 2023. \\nporasla je za 19.909 tisuća eura ili 5,3% na godišnjoj razi-\\nni. Rast u Hrvatskoj podržan je pozitivnim komercijalnim \\nzamahom i rastom prihoda koji je neutralizirao inflacijski \\npritisak na operativne troškove.\\n•\\t\\nNeto dobit nakon nekontrolirajućih udjela u 2023. porasla \\nje za 45.042 tisuće eura ili 51,8% na godišnjoj razini. Pove-\\nćanje je potaknuto poboljšanom EBITDA-om i još značaj-\\nnije pozitivnim neto financijskim rezultatom zbog rastućih \\nkamatnih stopa i jednokratnih stavki.\\n•\\t\\nNajveće ulaganje u povijesti HT-a u iznosu od 361,4 mili-\\njuna eura (+',\n",
              "   0.5924607737280433),\n",
              "  ('gim promjenama vezanima za \\nvođenje poslova Društva, kao i upravljanju rizicima, usklađenosti \\nposlovanja, fokusnim područjima za inovacije, te o bilo kakvim \\nodstupanjima razvoja poslovanja u odnosu na izvorne planove i \\nznačajnim poslovnim transakcijama koje se tiču HT d.d. i njego-\\nvih društava kćeri. \\nAnalizirajući izvješća Uprave Društva te prateći kretanje glavnih \\nposlovnih pokazatelja, ocijenjeno je da su ciljevi postavljeni za \\n2023. godinu ispunjeni, unatoč izazovnim makroekonomskim \\nprilikama, pritiscima od inflacije i intenzivnom konkurentskom \\nokružju. Društvo i Grupa zabilježili su jako dobre financijske re-\\nzultate, uz povećanje prihoda i EBITDA-e zahvaljujući rastu u \\npodručju mobilnih i fiksnih komunikacija i sistemskih rješenja, \\nšto je omogućilo najveća ulaganja u povijesti kompanije koja su, \\nzajedno s ulaganjima u spektar, iznosila 361,4 milijuna eura te \\nsu predstavljala daleko najveća ulaganja na tržištu čime je po-\\ntvrđena predanost HT-a osiguravanju platforme z',\n",
              "   0.5757469404438105)]}"
            ]
          },
          "execution_count": 64,
          "metadata": {},
          "output_type": "execute_result"
        }
      ],
      "source": [
        "retrieval_augmented_qa_pipeline.run_pipeline(\"How did HT perform financialy in 2023?\")"
      ]
    },
    {
      "cell_type": "markdown",
      "metadata": {
        "id": "QAkIW2qRR6yz"
      },
      "source": [
        "Navigate to the Weights and Biases \"run\" link to see how your LLM is performing!\n",
        "\n",
        "```\n",
        "View run at YOUR LINK HERE\n",
        "```"
      ]
    },
    {
      "cell_type": "markdown",
      "metadata": {
        "id": "sInZ32BoR6yz"
      },
      "source": [
        "#### ❓ Question #5:\n",
        "\n",
        "What is the `model_name` from the WandB `root_span` trace?\n",
        "\n",
        "gpt-3.5-turbo-0125\n"
      ]
    },
    {
      "cell_type": "markdown",
      "metadata": {
        "id": "Of8wJGalR6yz"
      },
      "source": [
        "## Task 7: RAG Evaluation Using GPT-4\n",
        "\n"
      ]
    },
    {
      "cell_type": "code",
      "execution_count": 65,
      "metadata": {
        "colab": {
          "base_uri": "https://localhost:8080/",
          "height": 330
        },
        "id": "PRNzzMurR6yz",
        "outputId": "0dcaf542-530c-480d-9dc6-a2931e8557e2"
      },
      "outputs": [
        {
          "name": "stdout",
          "output_type": "stream",
          "text": [
            "In 2023, HT Group (Hrvatski Telekom) performed well financially. Their revenues increased by 5.7%, EBITDA after leases grew by 5.3%, and net profit rose by 51.8% compared to 2022. The company maintained its leading position in the Croatian telecommunications market across all business areas. Additionally, they made significant investments, including the largest investment in the company's history, totaling 361.4 million euros, which underlined their commitment to digitalizing Croatia and driving further business growth.\n"
          ]
        },
        {
          "data": {
            "text/plain": [
              "'{\"clarity\" : \"9\", \"faithfulness\" : \"10\", \"correctness\" : \"10\"}'"
            ]
          },
          "execution_count": 65,
          "metadata": {},
          "output_type": "execute_result"
        }
      ],
      "source": [
        "query = \"How did HT perform financialy in 2023?\"\n",
        "\n",
        "response = retrieval_augmented_qa_pipeline.run_pipeline(query)\n",
        "\n",
        "print(response[\"response\"])\n",
        "\n",
        "evaluator_system_template = \"\"\"You are an expert in analyzing the quality of a response.\n",
        "\n",
        "You should be hyper-critical.\n",
        "\n",
        "Provide scores (out of 10) for the following attributes:\n",
        "\n",
        "1. Clarity - how clear is the response\n",
        "2. Faithfulness - how related to the original query is the response and the provided context\n",
        "3. Correctness - was the response correct?\n",
        "\n",
        "Please take your time, and think through each item step-by-step, when you are done - please provide your response in the following JSON format:\n",
        "\n",
        "{\"clarity\" : \"score_out_of_10\", \"faithfulness\" : \"score_out_of_10\", \"correctness\" : \"score_out_of_10\"}\"\"\"\n",
        "\n",
        "evaluation_template = \"\"\"Query: {input}\n",
        "Context: {context}\n",
        "Response: {response}\"\"\"\n",
        "\n",
        "try:\n",
        "    chat_openai = ChatOpenAI(model_name=\"gpt-4-turbo\")\n",
        "except:\n",
        "    chat_openai = ChatOpenAI()\n",
        "\n",
        "evaluator_system_prompt = SystemRolePrompt(evaluator_system_template)\n",
        "evaluation_prompt = UserRolePrompt(evaluation_template)\n",
        "\n",
        "messages = [\n",
        "    evaluator_system_prompt.create_message(format=False),\n",
        "    evaluation_prompt.create_message(\n",
        "        input=query,\n",
        "        context=\"\\n\".join([context[0] for context in response[\"context\"]]),\n",
        "        response=response[\"response\"]\n",
        "    ),\n",
        "]\n",
        "\n",
        "chat_openai.run(messages, response_format={\"type\" : \"json_object\"})"
      ]
    },
    {
      "cell_type": "markdown",
      "metadata": {
        "id": "TNpauQmJR6yz"
      },
      "source": [
        "# Conclusion\n",
        "\n",
        "In this notebook, we've gone through the steps required to create your own simple RAQA application!\n",
        "\n",
        "Please feel free to extend this as much as you'd like."
      ]
    },
    {
      "cell_type": "code",
      "execution_count": 66,
      "metadata": {
        "colab": {
          "base_uri": "https://localhost:8080/",
          "height": 87,
          "referenced_widgets": [
            "bb904e05ece143c79ecc4f20de482f45",
            "3a4ba348cb004f8ab7b2b1395539c81b",
            "1ce393d9afcf427d9d352259c5d32678",
            "56a8e24025594e5e9ff3b8581c344691",
            "d2ea5009dd16442cb5d8a0ac468e50a8",
            "5f00135fe1044051a50ee5e841cbb8e3",
            "4e6efd99f7d346e485b002fb0fa85cc7",
            "3dfb67c39958461da6071e4c19c3fa41"
          ]
        },
        "id": "xzlxJbFtR6y0",
        "outputId": "d5789d16-c41c-4a3c-ac53-65640a0d3698"
      },
      "outputs": [
        {
          "data": {
            "application/vnd.jupyter.widget-view+json": {
              "model_id": "a31ae10fbe794aaba9eba6381954ecb3",
              "version_major": 2,
              "version_minor": 0
            },
            "text/plain": [
              "VBox(children=(Label(value='0.002 MB of 0.002 MB uploaded\\r'), FloatProgress(value=1.0, max=1.0)))"
            ]
          },
          "metadata": {},
          "output_type": "display_data"
        },
        {
          "data": {
            "text/html": [
              " View run <strong style=\"color:#cdcd00\">radiant-grass-2</strong> at: <a href='https://wandb.ai/hrvatski_telekom/Financijsko_izvjesce/runs/07x5mb58' target=\"_blank\">https://wandb.ai/hrvatski_telekom/Financijsko_izvjesce/runs/07x5mb58</a><br/> View project at: <a href='https://wandb.ai/hrvatski_telekom/Financijsko_izvjesce' target=\"_blank\">https://wandb.ai/hrvatski_telekom/Financijsko_izvjesce</a><br/>Synced 6 W&B file(s), 0 media file(s), 0 artifact file(s) and 0 other file(s)"
            ],
            "text/plain": [
              "<IPython.core.display.HTML object>"
            ]
          },
          "metadata": {},
          "output_type": "display_data"
        },
        {
          "data": {
            "text/html": [
              "Find logs at: <code>./wandb/run-20240611_125139-07x5mb58/logs</code>"
            ],
            "text/plain": [
              "<IPython.core.display.HTML object>"
            ]
          },
          "metadata": {},
          "output_type": "display_data"
        }
      ],
      "source": [
        "wandb.finish()"
      ]
    }
  ],
  "metadata": {
    "colab": {
      "provenance": []
    },
    "kernelspec": {
      "display_name": "buildyourownlangchain",
      "language": "python",
      "name": "python3"
    },
    "language_info": {
      "codemirror_mode": {
        "name": "ipython",
        "version": 3
      },
      "file_extension": ".py",
      "mimetype": "text/x-python",
      "name": "python",
      "nbconvert_exporter": "python",
      "pygments_lexer": "ipython3",
      "version": "3.11.9"
    },
    "orig_nbformat": 4,
    "widgets": {
      "application/vnd.jupyter.widget-state+json": {
        "1ce393d9afcf427d9d352259c5d32678": {
          "model_module": "@jupyter-widgets/controls",
          "model_module_version": "1.5.0",
          "model_name": "FloatProgressModel",
          "state": {
            "_dom_classes": [],
            "_model_module": "@jupyter-widgets/controls",
            "_model_module_version": "1.5.0",
            "_model_name": "FloatProgressModel",
            "_view_count": null,
            "_view_module": "@jupyter-widgets/controls",
            "_view_module_version": "1.5.0",
            "_view_name": "ProgressView",
            "bar_style": "",
            "description": "",
            "description_tooltip": null,
            "layout": "IPY_MODEL_4e6efd99f7d346e485b002fb0fa85cc7",
            "max": 1,
            "min": 0,
            "orientation": "horizontal",
            "style": "IPY_MODEL_3dfb67c39958461da6071e4c19c3fa41",
            "value": 1
          }
        },
        "3a4ba348cb004f8ab7b2b1395539c81b": {
          "model_module": "@jupyter-widgets/controls",
          "model_module_version": "1.5.0",
          "model_name": "LabelModel",
          "state": {
            "_dom_classes": [],
            "_model_module": "@jupyter-widgets/controls",
            "_model_module_version": "1.5.0",
            "_model_name": "LabelModel",
            "_view_count": null,
            "_view_module": "@jupyter-widgets/controls",
            "_view_module_version": "1.5.0",
            "_view_name": "LabelView",
            "description": "",
            "description_tooltip": null,
            "layout": "IPY_MODEL_d2ea5009dd16442cb5d8a0ac468e50a8",
            "placeholder": "​",
            "style": "IPY_MODEL_5f00135fe1044051a50ee5e841cbb8e3",
            "value": "0.018 MB of 0.018 MB uploaded\r"
          }
        },
        "3dfb67c39958461da6071e4c19c3fa41": {
          "model_module": "@jupyter-widgets/controls",
          "model_module_version": "1.5.0",
          "model_name": "ProgressStyleModel",
          "state": {
            "_model_module": "@jupyter-widgets/controls",
            "_model_module_version": "1.5.0",
            "_model_name": "ProgressStyleModel",
            "_view_count": null,
            "_view_module": "@jupyter-widgets/base",
            "_view_module_version": "1.2.0",
            "_view_name": "StyleView",
            "bar_color": null,
            "description_width": ""
          }
        },
        "4e6efd99f7d346e485b002fb0fa85cc7": {
          "model_module": "@jupyter-widgets/base",
          "model_module_version": "1.2.0",
          "model_name": "LayoutModel",
          "state": {
            "_model_module": "@jupyter-widgets/base",
            "_model_module_version": "1.2.0",
            "_model_name": "LayoutModel",
            "_view_count": null,
            "_view_module": "@jupyter-widgets/base",
            "_view_module_version": "1.2.0",
            "_view_name": "LayoutView",
            "align_content": null,
            "align_items": null,
            "align_self": null,
            "border": null,
            "bottom": null,
            "display": null,
            "flex": null,
            "flex_flow": null,
            "grid_area": null,
            "grid_auto_columns": null,
            "grid_auto_flow": null,
            "grid_auto_rows": null,
            "grid_column": null,
            "grid_gap": null,
            "grid_row": null,
            "grid_template_areas": null,
            "grid_template_columns": null,
            "grid_template_rows": null,
            "height": null,
            "justify_content": null,
            "justify_items": null,
            "left": null,
            "margin": null,
            "max_height": null,
            "max_width": null,
            "min_height": null,
            "min_width": null,
            "object_fit": null,
            "object_position": null,
            "order": null,
            "overflow": null,
            "overflow_x": null,
            "overflow_y": null,
            "padding": null,
            "right": null,
            "top": null,
            "visibility": null,
            "width": null
          }
        },
        "56a8e24025594e5e9ff3b8581c344691": {
          "model_module": "@jupyter-widgets/base",
          "model_module_version": "1.2.0",
          "model_name": "LayoutModel",
          "state": {
            "_model_module": "@jupyter-widgets/base",
            "_model_module_version": "1.2.0",
            "_model_name": "LayoutModel",
            "_view_count": null,
            "_view_module": "@jupyter-widgets/base",
            "_view_module_version": "1.2.0",
            "_view_name": "LayoutView",
            "align_content": null,
            "align_items": null,
            "align_self": null,
            "border": null,
            "bottom": null,
            "display": null,
            "flex": null,
            "flex_flow": null,
            "grid_area": null,
            "grid_auto_columns": null,
            "grid_auto_flow": null,
            "grid_auto_rows": null,
            "grid_column": null,
            "grid_gap": null,
            "grid_row": null,
            "grid_template_areas": null,
            "grid_template_columns": null,
            "grid_template_rows": null,
            "height": null,
            "justify_content": null,
            "justify_items": null,
            "left": null,
            "margin": null,
            "max_height": null,
            "max_width": null,
            "min_height": null,
            "min_width": null,
            "object_fit": null,
            "object_position": null,
            "order": null,
            "overflow": null,
            "overflow_x": null,
            "overflow_y": null,
            "padding": null,
            "right": null,
            "top": null,
            "visibility": null,
            "width": null
          }
        },
        "5f00135fe1044051a50ee5e841cbb8e3": {
          "model_module": "@jupyter-widgets/controls",
          "model_module_version": "1.5.0",
          "model_name": "DescriptionStyleModel",
          "state": {
            "_model_module": "@jupyter-widgets/controls",
            "_model_module_version": "1.5.0",
            "_model_name": "DescriptionStyleModel",
            "_view_count": null,
            "_view_module": "@jupyter-widgets/base",
            "_view_module_version": "1.2.0",
            "_view_name": "StyleView",
            "description_width": ""
          }
        },
        "bb904e05ece143c79ecc4f20de482f45": {
          "model_module": "@jupyter-widgets/controls",
          "model_module_version": "1.5.0",
          "model_name": "VBoxModel",
          "state": {
            "_dom_classes": [],
            "_model_module": "@jupyter-widgets/controls",
            "_model_module_version": "1.5.0",
            "_model_name": "VBoxModel",
            "_view_count": null,
            "_view_module": "@jupyter-widgets/controls",
            "_view_module_version": "1.5.0",
            "_view_name": "VBoxView",
            "box_style": "",
            "children": [
              "IPY_MODEL_3a4ba348cb004f8ab7b2b1395539c81b",
              "IPY_MODEL_1ce393d9afcf427d9d352259c5d32678"
            ],
            "layout": "IPY_MODEL_56a8e24025594e5e9ff3b8581c344691"
          }
        },
        "d2ea5009dd16442cb5d8a0ac468e50a8": {
          "model_module": "@jupyter-widgets/base",
          "model_module_version": "1.2.0",
          "model_name": "LayoutModel",
          "state": {
            "_model_module": "@jupyter-widgets/base",
            "_model_module_version": "1.2.0",
            "_model_name": "LayoutModel",
            "_view_count": null,
            "_view_module": "@jupyter-widgets/base",
            "_view_module_version": "1.2.0",
            "_view_name": "LayoutView",
            "align_content": null,
            "align_items": null,
            "align_self": null,
            "border": null,
            "bottom": null,
            "display": null,
            "flex": null,
            "flex_flow": null,
            "grid_area": null,
            "grid_auto_columns": null,
            "grid_auto_flow": null,
            "grid_auto_rows": null,
            "grid_column": null,
            "grid_gap": null,
            "grid_row": null,
            "grid_template_areas": null,
            "grid_template_columns": null,
            "grid_template_rows": null,
            "height": null,
            "justify_content": null,
            "justify_items": null,
            "left": null,
            "margin": null,
            "max_height": null,
            "max_width": null,
            "min_height": null,
            "min_width": null,
            "object_fit": null,
            "object_position": null,
            "order": null,
            "overflow": null,
            "overflow_x": null,
            "overflow_y": null,
            "padding": null,
            "right": null,
            "top": null,
            "visibility": null,
            "width": null
          }
        }
      }
    }
  },
  "nbformat": 4,
  "nbformat_minor": 0
}
